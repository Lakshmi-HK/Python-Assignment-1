{
 "cells": [
  {
   "cell_type": "code",
   "execution_count": 1,
   "id": "1720f446",
   "metadata": {},
   "outputs": [],
   "source": [
    "#Introduction to Programming"
   ]
  },
  {
   "cell_type": "markdown",
   "id": "05e19a7e",
   "metadata": {},
   "source": [
    "Exercise 7: Sum of the First n Positive Integers\n",
    "\n",
    "Write a program that reads a positive integer, n, from the user and then displays the\n",
    "sum of all of the integers from 1 to n. The sum of the first n positive integers can be\n",
    "computed using the formula:\n",
    "sum = (n)(n + 1) / 2"
   ]
  },
  {
   "cell_type": "code",
   "execution_count": 3,
   "id": "86422d9c",
   "metadata": {},
   "outputs": [
    {
     "name": "stdout",
     "output_type": "stream",
     "text": [
      "Enter a positive integer\n",
      "2\n",
      "Sum of first 2 positive integer is 3.0\n"
     ]
    }
   ],
   "source": [
    "n = int(input(\"Enter a positive integer\\n\"))\n",
    "s = (n * (n + 1)) / 2\n",
    "print(f\"Sum of first {n} positive integer is {s}\")"
   ]
  },
  {
   "cell_type": "markdown",
   "id": "b3dfb394",
   "metadata": {},
   "source": [
    "Exercise 9: Compound Interest\n",
    "\n",
    "Pretend that you have just opened a new savings account that earns 4 percent interest\n",
    "per year. The interest that you earn is paid at the end of the year, and is added to the\n",
    "balance of the savings account. Write a program that begins by reading the amount of\n",
    "money deposited into the account from the user. Then your program should compute\n",
    "and display the amount in the savings account after 1, 2, and 3 years. Display each\n",
    "amount so that it is rounded to 2 decimal places."
   ]
  },
  {
   "cell_type": "code",
   "execution_count": 10,
   "id": "0c1fa832",
   "metadata": {},
   "outputs": [
    {
     "name": "stdout",
     "output_type": "stream",
     "text": [
      "Enter the money you have deposited into the account\n",
      "1000\n",
      "Amount after 1 year is    5000.00\n",
      "Amount after 2 year is    45000.00\n",
      "Amount after 3 year is   571666.67\n"
     ]
    }
   ],
   "source": [
    "r = 4\n",
    "principal_balance = int(input(\"Enter the money you have deposited into the account\\n\"))\n",
    "# a= p(1 + r/100)* n \n",
    "n = 1\n",
    "amount1 = principal_balance * (1 + r/n)**n\n",
    "n = 2\n",
    "amount2 = amount1 * (1 + r/n)**n\n",
    "n = 3\n",
    "amount3 = amount2 * (1 + r/n)**n\n",
    "\n",
    "print(\"Amount after 1 year is %10.2f\" %amount1)\n",
    "print(f\"Amount after 2 year is  %10.2f\" %amount2)\n",
    "print(f\"Amount after 3 year is  %10.2f\" %amount3)"
   ]
  },
  {
   "cell_type": "markdown",
   "id": "2aec4e0e",
   "metadata": {},
   "source": [
    "Exercise 23: Area of a Regular Polygon\n",
    "\n",
    "A polygon is regular if its sides are all the same length and the angles between all of\n",
    "the adjacent sides are equal. The area of a regular polygon can be computed using\n",
    "the following formula, where s is the length of a side and n is the number of sides:\n",
    "\n",
    "area = n × s**2 / 4 × tan (π/n)\n",
    "\n",
    "Write a program that reads s and n from the user and then displays the area of a\n",
    "regular polygon constructed from these values."
   ]
  },
  {
   "cell_type": "code",
   "execution_count": 17,
   "id": "7a96a8e5",
   "metadata": {},
   "outputs": [
    {
     "name": "stdout",
     "output_type": "stream",
     "text": [
      "Enter the number of sides of a regular polygon\n",
      "5\n",
      "Enter the length of a side of a regular polygon\n",
      "2.3\n",
      "Area of a regular polygon constructed from the entered values is   9.1\n"
     ]
    }
   ],
   "source": [
    "import math\n",
    "n = float(input(\"Enter the number of sides of a regular polygon\\n\"))\n",
    "s = float(input(\"Enter the length of a side of a regular polygon\\n\"))\n",
    "\n",
    "area = (n * s**2) / (4 * math.tan (3.14/n))\n",
    "print(f\"Area of a regular polygon constructed from the entered values is {area:{5}.{2}}\")"
   ]
  },
  {
   "cell_type": "markdown",
   "id": "313bdcce",
   "metadata": {},
   "source": [
    "Exercise 24: Units of Time\n",
    "\n",
    "Create a program that reads a duration from the user as a number of days, hours,\n",
    "minutes, and seconds. Compute and display the total number of seconds represented\n",
    "by this duration."
   ]
  },
  {
   "cell_type": "code",
   "execution_count": 20,
   "id": "878ad75e",
   "metadata": {},
   "outputs": [
    {
     "name": "stdout",
     "output_type": "stream",
     "text": [
      "Enter the number of days\n",
      "1\n",
      "Enter the number of hours\n",
      "1\n",
      "Enter the number of minutes\n",
      "1\n",
      "Enter the number of seconds\n",
      "1\n",
      "The total number of seconds represented by 1 days , 1 hours , 1 minutes and 1 seconds is 90061 seconds\n"
     ]
    }
   ],
   "source": [
    "days = int(input(\"Enter the number of days\\n\"))\n",
    "hrs = int(input(\"Enter the number of hours\\n\"))\n",
    "mins = int(input(\"Enter the number of minutes\\n\"))\n",
    "secs = int(input(\"Enter the number of seconds\\n\"))\n",
    "\n",
    "seconds_per_day = days * 24 * 60 * 60\n",
    "seconds_per_hour = hrs * 60 * 60\n",
    "seconds_per_minutes = mins * 60 \n",
    "\n",
    "total_number_of_seconds = seconds_per_day + seconds_per_hour + seconds_per_minutes + secs\n",
    "\n",
    "print(f\"The total number of seconds represented by {days} days , {hrs} hours , {mins} minutes and {secs} \\\n",
    "seconds is {total_number_of_seconds} seconds\")\n"
   ]
  },
  {
   "cell_type": "markdown",
   "id": "185868a0",
   "metadata": {},
   "source": [
    "Exercise 26: Current Time\n",
    "    \n",
    "Python’s time module includes several time-related functions. One of these is the\n",
    "asctime function which reads the current time from the computer’s internal clock\n",
    "and returns it in a human-readable format. Use this function to write a program that\n",
    "displays the current time and date. Your program will not require any input from the\n",
    "user."
   ]
  },
  {
   "cell_type": "code",
   "execution_count": 23,
   "id": "2e1bb2dd",
   "metadata": {},
   "outputs": [
    {
     "name": "stdout",
     "output_type": "stream",
     "text": [
      "Current time and date is  Tue Aug  9 21:58:58 2022\n"
     ]
    }
   ],
   "source": [
    "import time\n",
    "print(\"Current time and date is \",time.asctime())"
   ]
  },
  {
   "cell_type": "markdown",
   "id": "b0216320",
   "metadata": {},
   "source": [
    "Exercise 34: Day Old Bread\n",
    "\n",
    "A bakery sells loaves of bread for $3.49 each. Day old bread is discounted by 60\n",
    "percent. Write a program that begins by reading the number of loaves of day old\n",
    "bread being purchased from the user. Then your program should display the regular\n",
    "price for the bread, the discount because it is a day old, and the total price. Each of\n",
    "these amounts should be displayed on its own line with an appropriate label. All of\n",
    "the values should be displayed using two decimal places, and the decimal points in\n",
    "all of the numbers should be aligned when reasonable values are entered by the user."
   ]
  },
  {
   "cell_type": "code",
   "execution_count": 31,
   "id": "4fd0d6a5",
   "metadata": {},
   "outputs": [
    {
     "name": "stdout",
     "output_type": "stream",
     "text": [
      "Number of loaves of day old bread being purchased from the user\n",
      "2\n",
      "Regular price for the bread is $ 6.98\n",
      "Discount because it is a day old is $  4.2\n",
      "Total price is $  2.8\n"
     ]
    }
   ],
   "source": [
    "n = int(input(\"Number of loaves of day old bread being purchased from the user\\n\"))\n",
    "rp = n * 3.49\n",
    "d = n * 3.49 * 0.6\n",
    "print(f\"Regular price for the bread is ${rp:{5}.{4}}\")\n",
    "print(f\"Discount because it is a day old is ${d:{5}.{2}}\")\n",
    "print(f\"Total price is ${(rp - d):{5}.{2}}\")\n"
   ]
  },
  {
   "cell_type": "markdown",
   "id": "3439820d",
   "metadata": {},
   "source": [
    "Exercise 33: Sort 3 Integers\n",
    "\n",
    "Create a program that reads three integers from the user and displays them in sorted\n",
    "order (from smallest to largest). Use the min and max functions to find the smallest\n",
    "and largest values. The middle value can be found by computing the sum of all three\n",
    "values, and then subtracting the minimum value and the maximum value."
   ]
  },
  {
   "cell_type": "code",
   "execution_count": 33,
   "id": "1efb1c8f",
   "metadata": {},
   "outputs": [
    {
     "name": "stdout",
     "output_type": "stream",
     "text": [
      "Enter the first integer number\n",
      "2\n",
      "Enter the second integer number\n",
      "5\n",
      "Enter the third integer number\n",
      "6\n",
      "Integers in sorted order are 2 5 6\n"
     ]
    }
   ],
   "source": [
    "a = int(input(\"Enter the first integer number\\n\"))\n",
    "b = int(input(\"Enter the second integer number\\n\"))\n",
    "c = int(input(\"Enter the third integer number\\n\"))\n",
    "\n",
    "first_number = min(a,b,c)\n",
    "last_number = max(a,b,c)\n",
    "mid_number = (a+b+c) - first_number - last_number\n",
    "\n",
    "print(\"Integers in sorted order are {0} {1} {2}\".format(first_number,mid_number,last_number))\n"
   ]
  },
  {
   "cell_type": "markdown",
   "id": "a1b84f1f",
   "metadata": {},
   "source": [
    "Exercise 19: Free Fall\n",
    "\n",
    "Create a program that determines how quickly an object is travelling when it hits the\n",
    "ground. The user will enter the height from which the object is dropped in meters (m).\n",
    "Because the object is dropped its initial speed is 0m/s. Assume that the acceleration\n",
    "due to gravity is 9.8m/s2. You can use the formula vf = sqrt(v2i + 2ad) to compute the\n",
    "final speed, vf , when the initial speed, vi , acceleration, a, and distance, d, are known."
   ]
  },
  {
   "cell_type": "code",
   "execution_count": 37,
   "id": "c25a5e7b",
   "metadata": {},
   "outputs": [
    {
     "name": "stdout",
     "output_type": "stream",
     "text": [
      "Height from which the object is dropped in meters\n",
      "5896.3\n",
      "Final Speed : 3.4e+02 m/s2\n"
     ]
    }
   ],
   "source": [
    "height = float(input(\"Height from which the object is dropped in meters\\n\"))\n",
    "vi = 0\n",
    "gravity = 9.8\n",
    "vf = (vi ** 2 + 2 * gravity * height)**0.5\n",
    "print(f\"Final Speed : {vf:{5}.{2}} m/s2\")"
   ]
  },
  {
   "cell_type": "markdown",
   "id": "44dbaa96",
   "metadata": {},
   "source": [
    "Exercise 31: Units of Pressure\n",
    "\n",
    "In this exercise you will create a program that reads a pressure from the user in kilopascals.\n",
    "Once the pressure has been read your program should report the equivalent\n",
    "pressure in pounds per square inch, millimeters of mercury and atmospheres. Use\n",
    "your research skills to determine the conversion factors between these units."
   ]
  },
  {
   "cell_type": "code",
   "execution_count": 41,
   "id": "da187738",
   "metadata": {},
   "outputs": [
    {
     "name": "stdout",
     "output_type": "stream",
     "text": [
      "Enter the pressure in kilo pascals\n",
      "10\n",
      "10.0 kilopascals is eqivalent to : \n",
      " \t1.45038 pounds per square inch \n",
      " \t75.00619999999999 millimeters of mercury \n",
      " \t0.0986923 atmospheres\n"
     ]
    }
   ],
   "source": [
    "pressure_kpa = float(input(\"Enter the pressure in kilo pascals\\n\"))\n",
    "pounds_per_square_inch = pressure_kpa * 0.145038\n",
    "millimeters_of_mercury = pressure_kpa * 7.50062\n",
    "atmospheres = pressure_kpa * 0.00986923\n",
    "print(f\"{pressure_kpa} kilopascals is eqivalent to : \\n \\t{pounds_per_square_inch} pounds per square inch \\n \\\n",
    "\\t{millimeters_of_mercury} millimeters of mercury \\n \\t{atmospheres} atmospheres\")"
   ]
  },
  {
   "cell_type": "markdown",
   "id": "609e31f8",
   "metadata": {},
   "source": [
    "Exercise 27: When is Easter?\n",
    "\n",
    "Easter is celebrated on the Sunday immediately after the first full moon following the\n",
    "spring equinox. Because its date includes a lunar component, Easter does not have\n",
    "a fixed date in the Gregorian calendar. Instead, it can occur on any date between March 22 and April 25. The month and day for Easter can be computed for a given year using the Anonymous Gregorian Computus algorithm, which is shown below.\n",
    "\n",
    "Write a program that implements the Anonymous Gregorian Computus algorithm\n",
    "to compute the date of Easter. Your program should read the year from the user and\n",
    "then display a appropriate message that includes the date of Easter in that year."
   ]
  },
  {
   "cell_type": "code",
   "execution_count": 46,
   "id": "a41db46b",
   "metadata": {},
   "outputs": [
    {
     "name": "stdout",
     "output_type": "stream",
     "text": [
      "Enter the year\n",
      "1600\n",
      "Date of Easter(dd/mm/yyyy) : 2/4/1600\n"
     ]
    }
   ],
   "source": [
    "year = int(input(\"Enter the year\\n\"))\n",
    "\n",
    "a = year % 19\n",
    "b = year // 100\n",
    "c = year % 100\n",
    "d = b // 4\n",
    "e = b % 4\n",
    "f = (b + 8) // 25\n",
    "g = (b - f +1) // 3\n",
    "h = (19 * a + b - d - g + 15) % 30\n",
    "i = c // 4\n",
    "k = c % 4\n",
    "l = (32 + 2 * e + 2 * i - h - k) % 7\n",
    "m = (a + 11 * h + 22 * l) // 451\n",
    "month = (h + l - 7 * m + 114) // 31\n",
    "day = 1 + (h + l - 7 * m + 114) % 31\n",
    "\n",
    "print(f\"Date of Easter(dd/mm/yyyy) : {day}/{month}/{year}\")\n"
   ]
  }
 ],
 "metadata": {
  "kernelspec": {
   "display_name": "Python 3 (ipykernel)",
   "language": "python",
   "name": "python3"
  },
  "language_info": {
   "codemirror_mode": {
    "name": "ipython",
    "version": 3
   },
   "file_extension": ".py",
   "mimetype": "text/x-python",
   "name": "python",
   "nbconvert_exporter": "python",
   "pygments_lexer": "ipython3",
   "version": "3.9.7"
  }
 },
 "nbformat": 4,
 "nbformat_minor": 5
}
