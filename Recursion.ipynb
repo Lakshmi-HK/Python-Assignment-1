{
 "cells": [
  {
   "cell_type": "code",
   "execution_count": null,
   "id": "99689cc8",
   "metadata": {},
   "outputs": [],
   "source": [
    "#Recursion"
   ]
  },
  {
   "cell_type": "markdown",
   "id": "bc4464a1",
   "metadata": {},
   "source": [
    "Exercise 173:Total the Values\n",
    "    \n",
    "Write a program that reads values from the user until a blank line is entered. Display\n",
    "the total of all of the values entered by the user (or 0.0 if the first value entered is\n",
    "a blank line). Complete this task using recursion. Your program may not use any\n",
    "loops."
   ]
  },
  {
   "cell_type": "code",
   "execution_count": 2,
   "id": "22f7d49b",
   "metadata": {},
   "outputs": [
    {
     "name": "stdout",
     "output_type": "stream",
     "text": [
      "Enter a number (blank to quit): 10\n",
      "Enter a number (blank to quit): 23\n",
      "Enter a number (blank to quit): 1\n",
      "Enter a number (blank to quit): \n",
      "The total of all those values is 34.0\n"
     ]
    }
   ],
   "source": [
    "def readAndTotal():\n",
    "    line = input(\"Enter a number (blank to quit): \")\n",
    "    if line == \"\":\n",
    "        return 0\n",
    "    else:\n",
    "        return float(line) + readAndTotal()\n",
    "\n",
    "def main():\n",
    "    total = readAndTotal()\n",
    "    print(\"The total of all those values is\", total)\n",
    "\n",
    "main()\n"
   ]
  },
  {
   "cell_type": "markdown",
   "id": "9da7a308",
   "metadata": {},
   "source": [
    "Exercise 178: Recursive Palindrome\n",
    "\n",
    "The notion of a palindromewas introduced previously in Exercise 75. In this exercise\n",
    "you will write a recursive function that determines whether or not a string is a\n",
    "palindrome. The empty string is a palindrome, as is any string containing only one\n",
    "character. Any longer string is a palindrome if its first and last characters match, and\n",
    "if the string formed by removing the first and last characters is also a palindrome.\n",
    "Write a main program that reads a string from the user and uses your recursive\n",
    "function to determine whether or not it is a palindrome. Then your program should\n",
    "display an appropriate message for the user."
   ]
  },
  {
   "cell_type": "code",
   "execution_count": 11,
   "id": "906ab497",
   "metadata": {},
   "outputs": [
    {
     "name": "stdout",
     "output_type": "stream",
     "text": [
      "Enter a string: mam\n",
      "It is a palindrome!\n"
     ]
    }
   ],
   "source": [
    "def isPalindrome(s):\n",
    "    if len(s) <= 1:\n",
    "        return True\n",
    "    return s[0] == s[len(s) - 1] and isPalindrome(s[1 : len(s) - 1])\n",
    "\n",
    "def main():\n",
    "    line = input(\"Enter a string: \")\n",
    "    if isPalindrome(line):\n",
    "        print(\"It is a palindrome!\")\n",
    "    else:\n",
    "        print(\"It is not a palindrome.\")\n",
    "\n",
    "main()"
   ]
  },
  {
   "cell_type": "markdown",
   "id": "a845fd4a",
   "metadata": {},
   "source": [
    "Exercise 180: String Edit Distance\n",
    "\n",
    "The edit distance between two strings is ameasure of their similarity. The smaller the\n",
    "edit distance, the more similar the strings are with regard to the minimum number of\n",
    "insert, delete and substitute operations needed to transform one string into the other.\n",
    "Consider the strings kitten and sitting. The first string can be transformed\n",
    "into the second string with the following operations: Substitute the k with an s,\n",
    "substitute the e with an i, and insert a g at the end of the string. This is the smallest\n",
    "number of operations that can be performed to transform kitten into sitting.\n",
    "As a result, the edit distance is 3.\n",
    "Write a recursive function that computes the edit distance between two strings.\n",
    "Use the following algorithm:\n",
    "\n",
    "Let s and t be the strings\n",
    "If the length of s is 0 then\n",
    "Return the length of t\n",
    "Else if the length of t is 0 then\n",
    "Return the length of s\n",
    "Else\n",
    "Set cost to 0\n",
    "If the last character in s does not equal the last character in t then\n",
    "Set cost to 1\n",
    "Set d1 equal to the edit distance between all characters except the last one\n",
    "in s, and all characters in t, plus 1\n",
    "Set d2 equal to the edit distance between all characters in s, and all\n",
    "characters except the last one in t, plus 1\n",
    "Set d3 equal to the edit distance between all characters except the last one\n",
    "in s, and all characters except the last one in t, plus cost\n",
    "Return the minimum of d1, d2 and d3\n",
    "Use your recursive function to write a program that reads two strings from the\n",
    "user and displays the edit distance between them."
   ]
  },
  {
   "cell_type": "code",
   "execution_count": 8,
   "id": "30c813c4",
   "metadata": {},
   "outputs": [
    {
     "name": "stdout",
     "output_type": "stream",
     "text": [
      "Enter first string\n",
      "letter\n",
      "Enter second string\n",
      "better\n",
      "Edit distance between letter and better is 1\n"
     ]
    }
   ],
   "source": [
    "\n",
    "def editdist(s,t):\n",
    "    if len(s) == 0:\n",
    "        return len(t)\n",
    "    elif len(t) == 0:\n",
    "        return len(s)\n",
    "    else:\n",
    "        cost = 0\n",
    "        if s[len(s) - 1] != t[len(t) - 1]:\n",
    "            cost = 1\n",
    "        d1 = editdist( s [0 : len(s) - 1] , t) + 1\n",
    "        d2 = editdist( s , t [ 0: len(t) - 1]) + 1\n",
    "        d3 = editdist(s [0 : len(s) - 1] , t[0 : len(t) - 1]) + cost\n",
    "        return min(d1,d2,d3)\n",
    "    \n",
    "def main():\n",
    "    s = input(\"Enter first string\\n\")\n",
    "    t = input(\"Enter second string\\n\")\n",
    "    print(f\"Edit distance between {s} and {t} is {editdist(s,t)}\")\n",
    "    \n",
    "main()\n"
   ]
  },
  {
   "cell_type": "markdown",
   "id": "0cc3ddfa",
   "metadata": {},
   "source": [
    "Exercise 184: Flatten a List\n",
    "\n",
    "Python’s lists can contain other lists. When one list occurs inside another the inner\n",
    "list is said to be nested inside the outer list. Each of the inner lists nested within\n",
    "the outer list may also contain nested lists, and those lists may contain additional\n",
    "nested lists to any depth. For example, the following list includes elements that\n",
    "are nested at several different depths: [1, [2, 3], [4, [5, [6, 7]]],\n",
    "[[[8], 9], [10]]].\n",
    "Lists that contain multiple levels of nesting can be useful when describing complex\n",
    "relationships between values, but such lists can also make performing some\n",
    "operations on those values difficult because the values are nested at different levels.\n",
    "Flattening a list is the process of converting a list that may contain multiple levels\n",
    "of nested lists into a list that contains all of the same elements without any nesting.\n",
    "For example, flattening the list from the previous paragraph results in [1, 2, 3,\n",
    "4, 5, 6, 7, 8, 9, 10]. The following recursive algorithm can be used to\n",
    "flatten a list named data:\n",
    "If data is empty then\n",
    "Return the empty list\n",
    "If the first element in data is a list then\n",
    "Set l1 to the result of flattening the first element in data\n",
    "Set l2 to the result of flattening all of the elements in data, except the first\n",
    "Return the concatenation of l1 and l2\n",
    "If the first element in data is not a list then\n",
    "Set l1 to a list containing only the first element in data\n",
    "Set l2 to the result of flattening all of the elements in data, except the first\n",
    "Return the concatenation of l1 and l2\n",
    "Write a function that implements the recursive flattening algorithm described\n",
    "previously. Your function will take one argument, which is the list to flatten, and\n",
    "it will return one result, which is the flattened list. Include a main program that\n",
    "demonstrates that your function successfully flattens the list shown earlier in this\n",
    "problem, as well as several others.\n"
   ]
  },
  {
   "cell_type": "code",
   "execution_count": 10,
   "id": "85ed56b6",
   "metadata": {},
   "outputs": [
    {
     "name": "stdout",
     "output_type": "stream",
     "text": [
      "[1, 2, 3, 4, 5, 6, 7, 8, 9, 10]\n",
      "[1, 2, 3, 4, 5, 6, 7, 8, 9, 10]\n",
      "[1, 2, 3, 4, 5, 6, 7, 8, 9, 10]\n",
      "[1, 2, 3, 4, 5, 6, 7, 8, 9, 10]\n",
      "[]\n"
     ]
    }
   ],
   "source": [
    "def flatten(data):\n",
    "    if data == []:\n",
    "        return []\n",
    "    if type(data[0]) == list:\n",
    "        return flatten(data[0]) + flatten(data[1:])\n",
    "    else:\n",
    "        return [data[0]] + flatten(data[1:])\n",
    "\n",
    "def main():\n",
    "    print(flatten([1, [2, 3], [4, [5, [6, 7]]], [[[8], 9], [10]]]))\n",
    "    print(flatten([1, [2, [3, [4, [5, [6, [7, [8, [9,[10]]]]]]]]]]))\n",
    "    print(flatten([[[[[[[[[[1], 2], 3], 4], 5], 6], 7], 8], 9], 10]))\n",
    "    print(flatten([1, 2, 3, 4, 5, 6, 7, 8, 9, 10]))\n",
    "    print(flatten([]))\n",
    "\n",
    "main()"
   ]
  },
  {
   "cell_type": "markdown",
   "id": "dffd6098",
   "metadata": {},
   "source": [
    "Exercise 186: Run-Length Encoding\n",
    "\n",
    "Write a recursive function that implements the run-length compression technique\n",
    "described in Exercise 185. Your function will take a list or a string as its only argument.\n",
    "It should return the run-length compressed list as its only result. Include amain\n",
    "program that reads a string from the user, compresses it, and displays the run-length\n",
    "encoded result."
   ]
  },
  {
   "cell_type": "code",
   "execution_count": 12,
   "id": "120fc1bd",
   "metadata": {},
   "outputs": [
    {
     "name": "stdout",
     "output_type": "stream",
     "text": [
      "Enter some characters: aaaaaaabbbbb\n",
      "Result is  ['a', 7, 'b', 5]\n"
     ]
    }
   ],
   "source": [
    "def encode(data):\n",
    "    if len(data) == 0:\n",
    "        return []\n",
    "    index = 1\n",
    "    while index < len(data) and data[index] == data[index - 1]:\n",
    "        index = index + 1\n",
    "    current = [data[0], index]\n",
    "    return current + encode(data[index : len(data)])\n",
    "\n",
    "def main():\n",
    "    s = input(\"Enter some characters: \")\n",
    "    print(\"Result is \", encode(s))\n",
    "\n",
    "main()"
   ]
  },
  {
   "cell_type": "markdown",
   "id": "9ce2b3d2",
   "metadata": {},
   "source": [
    "Exercise 183: Element Sequences\n",
    "\n",
    "Some people like to play a game that constructs a sequence of chemical elements\n",
    "where each element in the sequence begins with the last letter of its predecessor.\n",
    "For example, if a sequence begins with Hydrogen, then the next element must be an\n",
    "element that begins with N, such as Nickel. The element following Nickel must begin\n",
    "with L, such as Lithium. The element sequence that is constructed cannot contain\n",
    "any duplicates. When played alone the goal of the game is to constructed the longest\n",
    "possible sequence of elements. When played with two players, the goal is to select\n",
    "an element that leaves your opponent without an option to add to the sequence.\n",
    "Write a program that reads the name of an element from the user and uses a\n",
    "recursive function to find the longest sequence of elements that begins with that\n",
    "value. Display the sequence once it has been computed. Ensure that your program\n",
    "responds in a reasonable way if the user does not enter a valid element name."
   ]
  },
  {
   "cell_type": "code",
   "execution_count": 22,
   "id": "f34bda6a",
   "metadata": {},
   "outputs": [
    {
     "name": "stdout",
     "output_type": "stream",
     "text": [
      "Enter the name of an element: molybdenum\n",
      "Sorry, that wasn’t a valid element name.\n"
     ]
    }
   ],
   "source": [
    "ELEMENTS_FNAME = \"words\"\n",
    "\n",
    "def longestSequence(start, words):\n",
    "    if start == \"\":\n",
    "        return []\n",
    "    best = []\n",
    "    last_letter = start[len(start) - 1].lower()\n",
    "    for i in range(0, len(words)):\n",
    "        first_letter = words[i][0].lower()\n",
    "        if first_letter == last_letter:\n",
    "            candidate = longestSequence(words[i],words[0 : i] + words[i + 1 : len(words)])\n",
    "            if len(candidate) > len(best):\n",
    "                best = candidate\n",
    "    return [start] + best\n",
    "\n",
    "def loadNames():\n",
    "    names = []\n",
    "    inf = open(ELEMENTS_FNAME, \"r\")\n",
    "    for line in inf:\n",
    "        line = line.rstrip()\n",
    "        parts = line.split(\",\")\n",
    "        names.append(parts[2])\n",
    "\n",
    "    inf.close()\n",
    "    return names\n",
    "\n",
    "def main():\n",
    "    names = loadNames()\n",
    "    start = input(\"Enter the name of an element: \")\n",
    "    start = start.capitalize()\n",
    "    if start in names:\n",
    "        names.remove(start)\n",
    "        sequence = longestSequence(start, names)\n",
    "        print(\"A longest sequence that starts with\", start, \"is:\")\n",
    "        for element in sequence:\n",
    "            print(\" \", element)\n",
    "    else:\n",
    "        print(\"Sorry, that wasn’t a valid element name.\")\n",
    "        \n",
    "main()\n"
   ]
  },
  {
   "cell_type": "markdown",
   "id": "e4aaa2a1",
   "metadata": {},
   "source": [
    "Exercise 179: Recursive Square Root\n",
    "\n",
    "Exercise 74 explored how iteration can be used to compute the square root of a\n",
    "number. In that exercise a better approximation of the square root was generated with\n",
    "each additional loop iteration. In this exercise you will use the same approximation\n",
    "strategy, but you will use recursion instead of a loop.\n",
    "Create a square root function with two parameters. The first parameter, n, will\n",
    "be the number for which the square root is being computed. The second parameter,\n",
    "guess, will be the current guess for the square root. The guess parameter should have\n",
    "a default value of 1.0. Do not provide a default value for the first parameter.\n",
    "Your square root function will be recursive. The base case occurs when guess2 is\n",
    "within 10−12 of n. In this case your function should return guess because it is close\n",
    "enough to the square root of n. Otherwise your function should return the result of\n",
    "calling itself recursively with n as the first parameter and\n",
    "guess+ n\n",
    "guess\n",
    "2 as the second\n",
    "parameter.\n",
    "Write a main program that demonstrate your square root function by computing\n",
    "the square root of several different values. When you call your square root function\n",
    "from the main program you should only pass one parameter to it so that the default\n",
    "value is used for guess."
   ]
  },
  {
   "cell_type": "code",
   "execution_count": 2,
   "id": "74eef1d8",
   "metadata": {},
   "outputs": [
    {
     "name": "stdout",
     "output_type": "stream",
     "text": [
      "Enter a number\n",
      "10\n",
      "3.3166247903554\n"
     ]
    }
   ],
   "source": [
    "def square(n,g = 1):\n",
    "    if g == 0:\n",
    "        return n\n",
    "    else:\n",
    "        return (n/square(n,g-1) + square(n,g-1))**0.5\n",
    "    \n",
    "\n",
    "def main():\n",
    "    n = int(input(\"Enter a number\\n\"))\n",
    "    print(square(n))\n",
    "    \n",
    "main()"
   ]
  },
  {
   "cell_type": "markdown",
   "id": "128d3d71",
   "metadata": {},
   "source": [
    "Exercise 174: Greatest Common Divisor\n",
    "\n",
    "Euclid was a Greek mathematician who lived approximately 2,300 years ago. His\n",
    "algorithm for computing the greatest common divisor of two positive integers, a and\n",
    "b, is both efficient and recursive. It is outlined below:\n",
    "8.4 Exercises 133\n",
    "If b is 0 then\n",
    "Return a\n",
    "Else\n",
    "Set c equal to the remainder when a is divided by b\n",
    "Return the greatest common divisor of b and c\n",
    "Write a program that implements Euclid’s algorithm and uses it to determine the\n",
    "greatest common divisor of two integers entered by the user. Test your program with\n",
    "some very large integers. The result will be computed quickly, even for huge numbers\n",
    "consisting of hundreds of digits, because Euclid’s algorithm is extremely efficient."
   ]
  },
  {
   "cell_type": "code",
   "execution_count": 6,
   "id": "def31acf",
   "metadata": {},
   "outputs": [
    {
     "name": "stdout",
     "output_type": "stream",
     "text": [
      "Enter first integer\n",
      "135\n",
      "Enter second integer\n",
      "225\n",
      "GCD of 135 and 225 is 45\n"
     ]
    }
   ],
   "source": [
    "def gcd(m,n):\n",
    "    if n == 0:\n",
    "        return m\n",
    "    else:\n",
    "        c = m % n\n",
    "        return gcd(n,c)\n",
    "\n",
    "\n",
    "m = int(input(\"Enter first integer\\n\"))\n",
    "n = int(input(\"Enter second integer\\n\"))\n",
    "print(f\"GCD of {m} and {n} is {gcd(m,n)}\")"
   ]
  }
 ],
 "metadata": {
  "kernelspec": {
   "display_name": "Python 3 (ipykernel)",
   "language": "python",
   "name": "python3"
  },
  "language_info": {
   "codemirror_mode": {
    "name": "ipython",
    "version": 3
   },
   "file_extension": ".py",
   "mimetype": "text/x-python",
   "name": "python",
   "nbconvert_exporter": "python",
   "pygments_lexer": "ipython3",
   "version": "3.9.7"
  }
 },
 "nbformat": 4,
 "nbformat_minor": 5
}
