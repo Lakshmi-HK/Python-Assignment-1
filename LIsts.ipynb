{
 "cells": [
  {
   "cell_type": "code",
   "execution_count": null,
   "id": "1a79a338",
   "metadata": {},
   "outputs": [],
   "source": [
    "#Listing"
   ]
  },
  {
   "cell_type": "markdown",
   "id": "3dec8141",
   "metadata": {},
   "source": [
    "Exercise 111: Reverse Order\n",
    "\n",
    "Write a program that reads integers from the user and stores them in a list. Use 0 as\n",
    "a sentinel value to mark the end of the input. Once all of the values have been read\n",
    "your program should display them (except for the 0) in reverse order, with one value\n",
    "appearing on each line."
   ]
  },
  {
   "cell_type": "code",
   "execution_count": 8,
   "id": "b968733c",
   "metadata": {},
   "outputs": [
    {
     "name": "stdout",
     "output_type": "stream",
     "text": [
      "Enter an integer\n",
      "1\n",
      "Enter an integer\n",
      "2\n",
      "Enter an integer\n",
      "3\n",
      "Enter an integer\n",
      "0\n",
      "Entered List: [1, 2, 3]\n",
      "List in Reverse Order:\n",
      "3\n",
      "2\n",
      "1\n"
     ]
    }
   ],
   "source": [
    "my_list = []\n",
    "integer = int(input(\"Enter an integer\\n\"))\n",
    "\n",
    "while integer != 0:\n",
    "    my_list.append(integer)\n",
    "    integer = int(input(\"Enter an integer\\n\"))\n",
    "\n",
    "print(f\"Entered List: {my_list}\")\n",
    "my_list.reverse()\n",
    "print(f\"List in Reverse Order:\")\n",
    "for item in my_list:\n",
    "    print(item)"
   ]
  },
  {
   "cell_type": "markdown",
   "id": "8b007f97",
   "metadata": {},
   "source": [
    "Exercise 113:Avoiding Duplicates\n",
    "\n",
    "In this exercise, you will create a program that reads words from the user until the\n",
    "user enters a blank line. After the user enters a blank line your program should display\n",
    "each word entered by the user exactly once. The words should be displayed in\n",
    "the same order that they were first entered. For example, if the user enters:\n",
    "first\n",
    "second\n",
    "first\n",
    "third\n",
    "second\n",
    "then your program should display:\n",
    "first\n",
    "second"
   ]
  },
  {
   "cell_type": "code",
   "execution_count": 19,
   "id": "e4388c25",
   "metadata": {},
   "outputs": [
    {
     "name": "stdout",
     "output_type": "stream",
     "text": [
      "Enter a word\n",
      "first\n",
      "Enter a word\n",
      "second\n",
      "Enter a word\n",
      "second\n",
      "Enter a word\n",
      "first\n",
      "Enter a word\n",
      "third\n",
      "Enter a word\n",
      "fourth\n",
      "Enter a word\n",
      " \n",
      "Result: ['first', 'second', 'third', 'fourth']\n"
     ]
    }
   ],
   "source": [
    "my_list = []\n",
    "word = input(\"Enter a word\\n\")\n",
    "\n",
    "while word != \" \":\n",
    "    if word not in my_list:\n",
    "        my_list.append(word)\n",
    "    word = input(\"Enter a word\\n\")\n",
    "\n",
    "print(f\"Result: {my_list}\")  "
   ]
  },
  {
   "cell_type": "markdown",
   "id": "b24e5cc5",
   "metadata": {},
   "source": [
    "Exercise 115: List of Proper Divisors\n",
    "\n",
    "A proper divisor of a positive integer, n, is a positive integer less than n which divides\n",
    "evenly into n. Write a function that computes all of the proper divisors of a positive\n",
    "integer. The integer will be passed to the function as its only parameter. The function\n",
    "will return a list containing all of the proper divisors as its only result. Complete\n",
    "this exercise by writing a main program that demonstrates the function by reading\n",
    "a value from the user and displaying the list of its proper divisors. Ensure that your\n",
    "main program only runs when your solution has not been imported into another file."
   ]
  },
  {
   "cell_type": "code",
   "execution_count": 25,
   "id": "056ec4ac",
   "metadata": {},
   "outputs": [
    {
     "name": "stdout",
     "output_type": "stream",
     "text": [
      "Enter an integer\n",
      "28\n",
      "List of Proper Divisors: [1, 2, 4, 7, 14]\n"
     ]
    }
   ],
   "source": [
    "result = []\n",
    "def divisors(n):\n",
    "    for i in range(1,n):\n",
    "        if n%i == 0:\n",
    "            result.append(i)\n",
    "    return result\n",
    "        \n",
    "\n",
    "integer = int(input(\"Enter an integer\\n\"))\n",
    "proper_divisors = divisors(integer)\n",
    "print(f\"List of Proper Divisors: {proper_divisors}\")\n",
    "   "
   ]
  },
  {
   "cell_type": "markdown",
   "id": "94fa73ad",
   "metadata": {},
   "source": [
    "Exercise 128: Count the Elements\n",
    "\n",
    "Python’s standard library includes a method named count that determines how\n",
    "many times a specific value occurs in a list. In this exercise, you will create a new\n",
    "function named countRange. It will determine and return the number of elements\n",
    "within a list that are greater than or equal to some minimum value and less than some\n",
    "maximum value. Your function will take three parameters: the list, the minimum\n",
    "value and the maximum value. It will return an integer result greater than or equal to\n",
    "0. Include a main program that demonstrates your function for several different lists,\n",
    "minimum values and maximum values. Ensure that your program works correctly\n",
    "for both lists of integers and lists of floating-point numbers."
   ]
  },
  {
   "cell_type": "code",
   "execution_count": 10,
   "id": "a9553a06",
   "metadata": {},
   "outputs": [
    {
     "name": "stdout",
     "output_type": "stream",
     "text": [
      "Enter a number (0 to exit)\n",
      "1\n",
      "Enter a number (0 to exit)\n",
      "2\n",
      "Enter a number (0 to exit)\n",
      "3\n",
      "Enter a number (0 to exit)\n",
      "0\n",
      "Enter a minimum value\n",
      "1\n",
      "Enter a maximum value\n",
      "1\n",
      "No. of elements within a list that are greater than or equal to 1 and less than 1: 0\n"
     ]
    }
   ],
   "source": [
    "my_list = []\n",
    "\n",
    "\n",
    "def countRange(lst , mina , maxb):\n",
    "    c = 0        \n",
    "    for j in lst:\n",
    "        if j >= mina and j < maxb:\n",
    "            c += 1\n",
    "    return c\n",
    "            \n",
    "def main():\n",
    "    n = float(input(\"Enter a number (0 to exit)\\n\"))\n",
    "    while n!=0:\n",
    "        my_list.append(n)\n",
    "        n = float(input(\"Enter a number (0 to exit)\\n\"))\n",
    "        \n",
    "    mi = int(input(\"Enter a minimum value\\n\"))\n",
    "    ma = int(input(\"Enter a maximum value\\n\"))\n",
    "    res = countRange(my_list,mi,ma)\n",
    "    print(f\"No. of elements within a list that are greater than or equal \\\n",
    "to {mi} and less than {ma}: {res}\")\n",
    "        \n",
    "main()      "
   ]
  },
  {
   "cell_type": "markdown",
   "id": "1537c879",
   "metadata": {},
   "source": [
    "Exercise 120: Formatting a List\n",
    "\n",
    "When writing out a list of items in English, one normally separates the items with\n",
    "commas. In addition, theword “and” is normally included before the last item, unless\n",
    "the list only contains one item. Consider the following four lists:\n",
    "apples\n",
    "apples and oranges\n",
    "apples, oranges and bananas\n",
    "apples, oranges, bananas and lemons\n",
    "5.5 Exercises 87\n",
    "Write a function that takes a list of strings as its only parameter. Your function\n",
    "should return a string that contains all of the items in the list, formatted in the manner\n",
    "described previously, as its only result. While the examples shown previously only\n",
    "include lists containing four elements or less, your function should behave correctly\n",
    "for lists of any length. Include a main program that reads several items from the user,\n",
    "formats them by calling your function, and then displays the result returned by the\n",
    "function."
   ]
  },
  {
   "cell_type": "code",
   "execution_count": 26,
   "id": "5f8b2d6e",
   "metadata": {},
   "outputs": [
    {
     "name": "stdout",
     "output_type": "stream",
     "text": [
      "Enter a word \n",
      "a\n",
      "Enter a word \n",
      "d\n",
      "Enter a word \n",
      "f\n",
      "Enter a word \n",
      "g\n",
      "Enter a word \n",
      " \n",
      "Result: a , d , f and g\n"
     ]
    }
   ],
   "source": [
    "def formatlist(lst):\n",
    "    for i in range(len(lst)):\n",
    "        if len(lst) == 0:\n",
    "            return lst[i]\n",
    "        elif len(lst) == 1:\n",
    "            return lst[i] \n",
    "        elif len(lst) == 2:\n",
    "            return lst[i] + \" and \" + lst[(i+1)]\n",
    "        elif len(lst) == 3:\n",
    "            return lst[i] + \" , \" + lst[(i+1)] + \" and \" + lst[(i+2)]\n",
    "        elif len(lst) == 4:\n",
    "            return lst[i] + \" , \" + lst[(i+1)] + \" , \" + lst[(i+2)] + \" and \" + lst[(i+3)]\n",
    "        \n",
    "def main():\n",
    "    lst = []\n",
    "    word = input(\"Enter a word \\n\")\n",
    "    while word != \" \":\n",
    "        lst.append(word)\n",
    "        word = input(\"Enter a word \\n\")\n",
    "        \n",
    "    res = formatlist(lst)\n",
    "    print(f\"Result: {res}\")\n",
    "main()"
   ]
  },
  {
   "cell_type": "markdown",
   "id": "94ccee68",
   "metadata": {},
   "source": [
    "Exercise 129:Tokenizing a String\n",
    "\n",
    "Tokenizing is the process of converting a string into a list of substrings, known as\n",
    "tokens. In many circumstances, a list of tokens is far easier to work with than the\n",
    "original string because the original string may have irregular spacing. In some cases\n",
    "substantial work is also required to determine where one token ends and the next one\n",
    "begins.\n",
    "In a mathematical expression, tokens are items such as operators, numbers and\n",
    "parentheses. The operator symbols that we will consider in this (and subsequent)\n",
    "problems are *, /, ˆ, - and +. Operators and parentheses are easy to identify because\n",
    "\n",
    "the token is always a single character, and the character is never part of another token.\n",
    "Numbers are slightly more challenging to identify because the token may consist of\n",
    "multiple characters. Any sequence of consecutive digits should be treated as one\n",
    "number token.\n",
    "Write a function that takes a string containing a mathematical expression as its\n",
    "only parameter and breaks it into a list of tokens. Each token should be a parenthesis,\n",
    "an operator, or a number. (For simplicity we will only work with integers in this\n",
    "problem). Return the list of tokens as the function’s only result.\n",
    "You may assume that the string passed to your function always contains a valid\n",
    "mathematical expression consisting of parentheses, operators and integers. However,\n",
    "your function must handle variable amounts of whitespace (including no whitespace)\n",
    "between these elements. Include a main program that demonstrates your tokenizing\n",
    "function by reading an expression from the user and printing the list of tokens. Ensure\n",
    "that the main program will not run when the file containing your solution is imported\n",
    "into another program."
   ]
  },
  {
   "cell_type": "code",
   "execution_count": 52,
   "id": "35d363c0",
   "metadata": {},
   "outputs": [
    {
     "name": "stdout",
     "output_type": "stream",
     "text": [
      "Enter an expression\n",
      "(1+2)*(4/3)^2\n",
      "Tokens are : ['(', '1', '+', '2', ')', '*', '(', '4', '/', '3', ')', '^', '2']\n"
     ]
    }
   ],
   "source": [
    "def tokenize(s):\n",
    "    i = 0\n",
    "    res = []\n",
    "    s = s.replace(\" \",\"\")\n",
    "    while i < len(s):\n",
    "        if s[i] == \"*\" or s[i] == \"/\" or s[i] == \"^\" or s[i] == \"-\" or s[i] == \"+\" or s[i] == \"(\" or s[i] == \")\":\n",
    "            res.append(s[i])\n",
    "            i += 1\n",
    "           \n",
    "        elif  s[i] >= \"0\" and s[i] <= \"9\":\n",
    "            num =\"\"\n",
    "            while i < len(s) and s[i] >= \"0\" and s[i] <= \"9\":\n",
    "                num = num + s[i]\n",
    "                i = i + 1\n",
    "                res.append(num)\n",
    "        else:\n",
    "            return []\n",
    "    return res\n",
    "            \n",
    "def main():\n",
    "    exp = input(\"Enter an expression\\n\")\n",
    "    res = tokenize(exp)\n",
    "    print(f\"Tokens are : {res}\")\n",
    "    \n",
    "main()"
   ]
  },
  {
   "cell_type": "markdown",
   "id": "5d47cbfe",
   "metadata": {},
   "source": [
    "Exercise 131: Infix to Postfix\n",
    "(63 Lines)\n",
    "Mathematical expressions are often written in infix form, where operators appear\n",
    "between the operands on which they act. While this is a common form, it is also\n",
    "possible to express mathematical expressions in postfix form, where the operator\n",
    "appears after all of its operands. For example, the infix expression3 + 4is written\n",
    "as3 4 +in postfix form. One can convert an infix expression to postfix form using\n",
    "the following algorithm:\n",
    "    \n",
    "Use your solutions to Exercises 129 and 130 to tokenize amathematical expression\n",
    "and identify any unary operators in it. Then use the algorithm above to transform the\n",
    "expression from infix form to postfix form. Your code that implements the preceding\n",
    "algorithm should reside in a function that takes a list of tokens representing an\n",
    "infix expression (with the unary operators marked) as its only parameter. It should\n",
    "return a list of tokens representing the equivalent postfix expression as its only result.\n",
    "Include a main program that demonstrates your infix to postfix function by reading\n",
    "an expression from the user in infix form and displaying it in postfix form.\n",
    "The purpose of converting from infix form to postfix form will become apparent\n",
    "when you read Exercise 132. You may find your solutions to Exercises 96 and 97\n",
    "helpful when completing this problem. While you should be able to use your solution\n",
    "to Exercise 96 without any modifications, your solution to Exercise 97 will need to\n",
    "be extended so that it returns the correct precedence for the unary operators. The\n",
    "unary operators should have higher precedence than multiplication and division, but\n",
    "lower precedence than exponentiation."
   ]
  },
  {
   "cell_type": "code",
   "execution_count": 5,
   "id": "5aff9faa",
   "metadata": {},
   "outputs": [
    {
     "name": "stdout",
     "output_type": "stream",
     "text": [
      "Enter an expression\n",
      "+3\n",
      "Tokens are : ['+', '3']\n",
      "Unary operators are : ['u+', '3']\n",
      "Postfix expression is ['3']\n"
     ]
    }
   ],
   "source": [
    "def tokenize(s):\n",
    "    i = 0\n",
    "    res = []\n",
    "    s = s.replace(\" \",\"\")\n",
    "    while i < len(s):\n",
    "        if s[i] == \"*\" or s[i] == \"/\" or s[i] == \"^\" or s[i] == \"-\" or s[i] == \"+\" or s[i] == \"(\" or s[i] == \")\":\n",
    "            res.append(s[i])\n",
    "            i += 1\n",
    "           \n",
    "        elif  s[i] >= \"0\" and s[i] <= \"9\":\n",
    "            num =\"\"\n",
    "            while i < len(s) and s[i] >= \"0\" and s[i] <= \"9\":\n",
    "                num = num + s[i]\n",
    "                i = i + 1\n",
    "                res.append(num)\n",
    "        else:\n",
    "            return []\n",
    "    return res\n",
    "\n",
    "def unary(t):\n",
    "    un = []\n",
    "    for i in range(len(t)):\n",
    "        if i == 0 and (t[i] == \"+\" or t[i] == \"-\"):\n",
    "            un.append(\"u\" + t[i] )\n",
    "        elif i >0 and (t[i] == \"+\" or t[i] == \"-\") and (t[i-1] == \"+\" or t[i-1] == \"-\" or t[i-1] == \"*\" or t[i-1] == \"/\" or \\\n",
    "                                                       t[i-1] == \"(\"):\n",
    "            un.append(\"u\" + t[i] )\n",
    "        else:\n",
    "            un.append(t[i])\n",
    "            \n",
    "    return un\n",
    "    \n",
    "\n",
    "def infix_postfix(e):\n",
    "    operators =[]\n",
    "    postfix = []\n",
    "    for token in e:\n",
    "        if token >=\"0\" and token <=\"9\":\n",
    "            postfix.append(token)\n",
    "        elif token == \"+\" or token == \"-\" or token == \"*\" or token == \"/\":\n",
    "            while len(operators) != 0 and operators[-1] == \")\" and (token+1) < operators[-1]:\n",
    "                postfix.append(operators.pop(-1))\n",
    "            operators.append(token)\n",
    "        elif token == \"(\":\n",
    "            operators.append(token)\n",
    "        elif token == \")\":\n",
    "            while operators[-1] !=\"(\":\n",
    "                postfix.append(operators.pop(-1))\n",
    "            operators.remove(\"(\")\n",
    "            \n",
    "    while len(operators) != 0:\n",
    "        postfix.append(operators.pop(-1))\n",
    "        \n",
    "    return postfix\n",
    "                \n",
    "\n",
    "def main():\n",
    "    exp = input(\"Enter an expression\\n\")\n",
    "    res = tokenize(exp)\n",
    "    print(f\"Tokens are : {res}\")\n",
    "    op = unary(res)\n",
    "    print(f\"Unary operators are : {op}\")\n",
    "    postfix = infix_postfix(op)\n",
    "    print(f\"Postfix expression is {postfix}\")\n",
    "    \n",
    "    \n",
    "main()"
   ]
  },
  {
   "cell_type": "markdown",
   "id": "a9e9623c",
   "metadata": {},
   "source": [
    "Exercise 134:Generate All Sublists of a List\n",
    "\n",
    "Using the definition of a sublist from Exercise 133, write a function that returns a\n",
    "list containing every possible sublist of a list. For example, the sublists of [1, 2,\n",
    "3] are [], [1], [2], [3], [1, 2], [2, 3] and [1, 2, 3]. Note that your\n",
    "function will always return a list containing at least the empty list because the empty\n",
    "list is a sublist of every list. Include a main program that demonstrate your function\n",
    "by displaying all of the sublists of several different lists."
   ]
  },
  {
   "cell_type": "code",
   "execution_count": 13,
   "id": "de5e32cd",
   "metadata": {},
   "outputs": [
    {
     "name": "stdout",
     "output_type": "stream",
     "text": [
      "Sublists of [] are:  [[]]\n",
      "Sublists of [1] are:  [[], [1]]\n",
      "Sublists of [1,2] are:  [[], [1], [2], [1, 2]]\n",
      "Sublists of [1,2,3] are:  [[], [1], [2], [3], [1, 2], [2, 3], [1, 2, 3]]\n",
      "Sublists of [1,2,3,4] are:  [[], [1], [2], [3], [4], [1, 2], [2, 3], [3, 4], [1, 2, 3], [2, 3, 4], [1, 2, 3, 4]]\n"
     ]
    }
   ],
   "source": [
    "def find_sublists(lst):\n",
    "    sublists =[[]]\n",
    "    for i in range(1,len(lst)+1):\n",
    "        for j in range(0,len(lst) - i + 1):\n",
    "            sublists.append(lst[j: j+i])\n",
    "    return sublists\n",
    "\n",
    "def main():\n",
    "    print(\"Sublists of [] are: \",find_sublists([]))\n",
    "    print(\"Sublists of [1] are: \",find_sublists([1]))\n",
    "    print(\"Sublists of [1,2] are: \",find_sublists([1,2]))\n",
    "    print(\"Sublists of [1,2,3] are: \",find_sublists([1,2,3]))\n",
    "    print(\"Sublists of [1,2,3,4] are: \",find_sublists([1,2,3,4]))\n",
    "    \n",
    "main()\n",
    " "
   ]
  },
  {
   "cell_type": "markdown",
   "id": "50d02d84",
   "metadata": {},
   "source": [
    "Exercise 135:The Sieve of Eratosthenes\n",
    "\n",
    "The Sieve of Eratosthenes is a technique that was developed more than 2,000 years\n",
    "ago to easily find all of the prime numbers between 2 and some limit, say 100. A\n",
    "description of the algorithm follows:\n",
    "Write down all of the numbers from 0 to the limit\n",
    "Cross out 0 and 1 because they are not prime\n",
    "Set p equal to 2\n",
    "While p is less than the limit do\n",
    "Cross out all multiples of p (but not p itself)\n",
    "Set p equal to the next number in the list that is not crossed out\n",
    "Report all of the numbers that have not been crossed out as prime\n",
    "The key to this algorithm is that it is relatively easy to cross out every nth number\n",
    "on a piece of paper. This is also an easy task for a computer—a for loop can simulate\n",
    "this behavior when a third parameter is provided to the range function. When a\n",
    "number is crossed out, we know that it is no longer prime, but it still occupies space\n",
    "on the piece of paper, and must still be considered when computing later prime\n",
    "numbers. As a result, you should not simulate crossing out a number by removing\n",
    "it from the list. Instead, you should simulate crossing out a number by replacing it\n",
    "with 0. Then, once the algorithm completes, all of the non-zero values in the list are\n",
    "prime.\n",
    "Create a Python program that uses this algorithm to display all of the prime\n",
    "numbers between 2 and a limit entered by the user. If you implement the algorithm\n",
    "correctly you should be able to display all of the prime numbers less than 1,000,000\n",
    "in a few seconds."
   ]
  },
  {
   "cell_type": "code",
   "execution_count": 18,
   "id": "65642344",
   "metadata": {},
   "outputs": [
    {
     "name": "stdout",
     "output_type": "stream",
     "text": [
      "Enter the limit\n",
      "100\n",
      "Prime numbers between 2 and 100 are :\n",
      "2\t3\t5\t7\t11\t13\t17\t19\t23\t29\t31\t37\t41\t43\t47\t53\t59\t61\t67\t71\t73\t79\t83\t89\t97\t"
     ]
    }
   ],
   "source": [
    "def find_prime(l):\n",
    "    lst = []\n",
    "    for i in range(0,limit+1):\n",
    "        lst.append(i)\n",
    "        \n",
    "    lst[1] = 0\n",
    "    p = 2\n",
    "    while p < l:\n",
    "        for i in range(p*2 , limit+1 , p):\n",
    "            lst[i] = 0 \n",
    "            \n",
    "        p = p + 1\n",
    "        while p < l and lst[p] == 0:\n",
    "            p = p + 1\n",
    "            \n",
    "    return lst\n",
    "\n",
    "limit = int(input(\"Enter the limit\\n\"))\n",
    "result = find_prime(limit)\n",
    "print(f\"Prime numbers between 2 and {limit} are :\")\n",
    "for i in result:\n",
    "    if i!=0:\n",
    "        print(i,end = \"\\t\")"
   ]
  },
  {
   "cell_type": "markdown",
   "id": "47d9f4e2",
   "metadata": {},
   "source": [
    "Exercise 121: Random Lottery Numbers\n",
    "\n",
    "In order to win the top prize in a particular lottery, one must match all 6 numbers\n",
    "on his or her ticket to the 6 numbers between 1 and 49 that are drawn by the lottery\n",
    "organizer. Write a program that generates a random selection of 6 numbers for a\n",
    "lottery ticket. Ensure that the 6 numbers selected do not contain any duplicates.\n",
    "Display the numbers in ascending order."
   ]
  },
  {
   "cell_type": "code",
   "execution_count": 28,
   "id": "4029a4de",
   "metadata": {},
   "outputs": [
    {
     "name": "stdout",
     "output_type": "stream",
     "text": [
      "Ticket numbers are:\n",
      "7 18 19 29 33 45 "
     ]
    }
   ],
   "source": [
    "from random import randrange\n",
    "minimum = 1\n",
    "maximum = 49\n",
    "num = 6\n",
    "\n",
    "ticket = []\n",
    "\n",
    "for i in range(num):\n",
    "    rand = randrange(minimum,maximum + 1)\n",
    "    while rand in ticket:\n",
    "        rand = randrange(minimum,maximum + 1)\n",
    "    \n",
    "    ticket.append(rand)\n",
    "    \n",
    "ticket.sort()\n",
    "print(\"Ticket numbers are:\")\n",
    "for i in ticket:\n",
    "    print(i,end = \" \")\n",
    "        "
   ]
  }
 ],
 "metadata": {
  "kernelspec": {
   "display_name": "Python 3 (ipykernel)",
   "language": "python",
   "name": "python3"
  },
  "language_info": {
   "codemirror_mode": {
    "name": "ipython",
    "version": 3
   },
   "file_extension": ".py",
   "mimetype": "text/x-python",
   "name": "python",
   "nbconvert_exporter": "python",
   "pygments_lexer": "ipython3",
   "version": "3.9.7"
  }
 },
 "nbformat": 4,
 "nbformat_minor": 5
}
