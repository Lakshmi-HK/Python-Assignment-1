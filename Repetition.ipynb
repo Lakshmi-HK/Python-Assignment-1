{
 "cells": [
  {
   "cell_type": "code",
   "execution_count": 1,
   "id": "9277063f",
   "metadata": {},
   "outputs": [],
   "source": [
    "#Repetition"
   ]
  },
  {
   "cell_type": "markdown",
   "id": "2c227d42",
   "metadata": {},
   "source": [
    "Exercise 69:Admission Price\n",
    "\n",
    "A particular zoo determines the price of admission based on the age of the guest.\n",
    "Guests 2 years of age and less are admitted without charge. Children between 3 and\n",
    "12 years of age cost $14.00. Seniors aged 65 years and over cost $18.00. Admission\n",
    "for all other guests is $23.00.\n",
    "Create a program that begins by reading the ages of all of the guests in a group\n",
    "from the user, with one age entered on each line. The user will enter a blank line to\n",
    "indicate that there are no more guests in the group. Then your program should display\n",
    "the admission cost for the group with an appropriate message. The cost should be\n",
    "displayed using two decimal places."
   ]
  },
  {
   "cell_type": "code",
   "execution_count": 17,
   "id": "ba854b94",
   "metadata": {},
   "outputs": [
    {
     "name": "stdout",
     "output_type": "stream",
     "text": [
      "Enter the ages of the guests (blank to indicate end of input\n",
      "2\n",
      "Enter the ages of the guests (blank to indicate end of input\n",
      "\n",
      "Total admission price for the entered group is   0.0\n"
     ]
    }
   ],
   "source": [
    "ages = input(\"Enter the ages of the guests (blank to indicate end of input\\n\")\n",
    "total = 0.00\n",
    "while ages != \"\":\n",
    "    age = int(ages)\n",
    "  \n",
    "    if age <= 2:\n",
    "        total += 0.00\n",
    "    elif age >= 3 and age <= 12:\n",
    "        total += 14.00\n",
    "    elif age >= 65:\n",
    "        total += 18.00\n",
    "    elif age >= 13 and age <= 64:\n",
    "        total += 23.00 \n",
    "    \n",
    "    ages = input(\"Enter the ages of the guests (blank to indicate end of input\\n\")\n",
    "        \n",
    "print(f\"Total admission price for the entered group is {total:{5}.{2}}\")\n"
   ]
  },
  {
   "cell_type": "markdown",
   "id": "a3809278",
   "metadata": {},
   "source": [
    "Exercise 65:Temperature Conversion Table\n",
    "\n",
    "Write a program that displays a temperature conversion table for degrees Celsius and\n",
    "degrees Fahrenheit. The table should include rows for all temperatures between 0\n",
    "and 100 degrees Celsius that are multiples of 10 degrees Celsius. Include appropriate\n",
    "headings on your columns. The formula for converting between degrees Celsius and\n",
    "degrees Fahrenheit can be found on the Internet."
   ]
  },
  {
   "cell_type": "code",
   "execution_count": 23,
   "id": "ad163339",
   "metadata": {},
   "outputs": [
    {
     "name": "stdout",
     "output_type": "stream",
     "text": [
      "Degree Celsius  | Degree Fahrenheit \n",
      "              0 |               32.0\n",
      "             10 |               50.0\n",
      "             20 |               68.0\n",
      "             30 |               86.0\n",
      "             40 |              104.0\n",
      "             50 |              122.0\n",
      "             60 |              140.0\n",
      "             70 |              158.0\n",
      "             80 |              176.0\n",
      "             90 |              194.0\n",
      "            100 |              212.0\n"
     ]
    }
   ],
   "source": [
    "print(\"{0:15} | {1:18}\".format(\"Degree Celsius\",\"Degree Fahrenheit\"))\n",
    "for i in range(0,101,10):\n",
    "    f = i * (9/5) + 32\n",
    "    print(\"{0:15} | {1:18}\".format(i,f))\n",
    "  "
   ]
  },
  {
   "cell_type": "markdown",
   "id": "4df3ed91",
   "metadata": {},
   "source": [
    "Exercise 77: Multiplication Table\n",
    "(Solved, 18 Lines)\n",
    "In this exercise you will create a program that displays a multiplication table that\n",
    "shows the products of all combinations of integers from 1 times 1 up to and including\n",
    "10 times 10. Your multiplication table should include a row of labels across the top\n",
    "of it containing the numbers 1 through 10. It should also include labels down the left\n",
    "side consisting of the numbers 1 through 10. The expected output from the program\n",
    "is shown below:"
   ]
  },
  {
   "cell_type": "code",
   "execution_count": 47,
   "id": "5aaecdfd",
   "metadata": {},
   "outputs": [
    {
     "name": "stdout",
     "output_type": "stream",
     "text": [
      "\t 1\t 2\t 3\t 4\t 5\t 6\t 7\t 8\t 9\t 10\n",
      "\n",
      "1\t 1 \t 2 \t 3 \t 4 \t 5 \t 6 \t 7 \t 8 \t 9 \t 10 \t\n",
      "\n",
      "2\t 2 \t 4 \t 6 \t 8 \t 10 \t 12 \t 14 \t 16 \t 18 \t 20 \t\n",
      "\n",
      "3\t 3 \t 6 \t 9 \t 12 \t 15 \t 18 \t 21 \t 24 \t 27 \t 30 \t\n",
      "\n",
      "4\t 4 \t 8 \t 12 \t 16 \t 20 \t 24 \t 28 \t 32 \t 36 \t 40 \t\n",
      "\n",
      "5\t 5 \t 10 \t 15 \t 20 \t 25 \t 30 \t 35 \t 40 \t 45 \t 50 \t\n",
      "\n",
      "6\t 6 \t 12 \t 18 \t 24 \t 30 \t 36 \t 42 \t 48 \t 54 \t 60 \t\n",
      "\n",
      "7\t 7 \t 14 \t 21 \t 28 \t 35 \t 42 \t 49 \t 56 \t 63 \t 70 \t\n",
      "\n",
      "8\t 8 \t 16 \t 24 \t 32 \t 40 \t 48 \t 56 \t 64 \t 72 \t 80 \t\n",
      "\n",
      "9\t 9 \t 18 \t 27 \t 36 \t 45 \t 54 \t 63 \t 72 \t 81 \t 90 \t\n",
      "\n",
      "10\t 10 \t 20 \t 30 \t 40 \t 50 \t 60 \t 70 \t 80 \t 90 \t 100 \t\n",
      "\n"
     ]
    }
   ],
   "source": [
    "print(\"\\t 1\\t 2\\t 3\\t 4\\t 5\\t 6\\t 7\\t 8\\t 9\\t 10\\n\")\n",
    "for num in range(1,11):\n",
    "    print(num,end = \"\\t\")\n",
    "    for i in range(1,11):\n",
    "        print(f\" {i * num} \", end = \"\\t\")\n",
    "    print(\"\\n\")"
   ]
  },
  {
   "cell_type": "markdown",
   "id": "b240cc9b",
   "metadata": {},
   "source": [
    "Exercise 78:The Collatz Conjecture\n",
    "\n",
    "Consider a sequence of integers that is constructed in the following manner:\n",
    "Start with any positive integer as the only term in the sequence\n",
    "While the last term in the sequence is not equal to 1 do\n",
    "If the last term is even then\n",
    "Add another term to the sequence by dividing the last term by 2 using\n",
    "floor division\n",
    "Else\n",
    "Add another term to the sequence by multiplying the last term by 3 and\n",
    "adding 1\n",
    "The Collatz conjecture states that this sequence will eventually end with one when\n",
    "it begins with any positive integer. Although this conjecture has never been proved,\n",
    "it appears to be true.\n",
    "Create a program that reads an integer, n, from the user and reports all of the\n",
    "values in the sequence starting with n and ending with one. Your program should\n",
    "allow the user to continue entering new n values (and your program should continue\n",
    "displaying the sequences) until the user enters a value for n that is less than or equal\n",
    "to zero."
   ]
  },
  {
   "cell_type": "code",
   "execution_count": 51,
   "id": "a2598496",
   "metadata": {},
   "outputs": [
    {
     "name": "stdout",
     "output_type": "stream",
     "text": [
      "Enter a positive integer\n",
      "100\n",
      "[100, 50]\n",
      "[100, 50, 25]\n",
      "[100, 50, 25, 76]\n",
      "[100, 50, 25, 76, 38]\n",
      "[100, 50, 25, 76, 38, 19]\n",
      "[100, 50, 25, 76, 38, 19, 58]\n",
      "[100, 50, 25, 76, 38, 19, 58, 29]\n",
      "[100, 50, 25, 76, 38, 19, 58, 29, 88]\n",
      "[100, 50, 25, 76, 38, 19, 58, 29, 88, 44]\n",
      "[100, 50, 25, 76, 38, 19, 58, 29, 88, 44, 22]\n",
      "[100, 50, 25, 76, 38, 19, 58, 29, 88, 44, 22, 11]\n",
      "[100, 50, 25, 76, 38, 19, 58, 29, 88, 44, 22, 11, 34]\n",
      "[100, 50, 25, 76, 38, 19, 58, 29, 88, 44, 22, 11, 34, 17]\n",
      "[100, 50, 25, 76, 38, 19, 58, 29, 88, 44, 22, 11, 34, 17, 52]\n",
      "[100, 50, 25, 76, 38, 19, 58, 29, 88, 44, 22, 11, 34, 17, 52, 26]\n",
      "[100, 50, 25, 76, 38, 19, 58, 29, 88, 44, 22, 11, 34, 17, 52, 26, 13]\n",
      "[100, 50, 25, 76, 38, 19, 58, 29, 88, 44, 22, 11, 34, 17, 52, 26, 13, 40]\n",
      "[100, 50, 25, 76, 38, 19, 58, 29, 88, 44, 22, 11, 34, 17, 52, 26, 13, 40, 20]\n",
      "[100, 50, 25, 76, 38, 19, 58, 29, 88, 44, 22, 11, 34, 17, 52, 26, 13, 40, 20, 10]\n",
      "[100, 50, 25, 76, 38, 19, 58, 29, 88, 44, 22, 11, 34, 17, 52, 26, 13, 40, 20, 10, 5]\n",
      "[100, 50, 25, 76, 38, 19, 58, 29, 88, 44, 22, 11, 34, 17, 52, 26, 13, 40, 20, 10, 5, 16]\n",
      "[100, 50, 25, 76, 38, 19, 58, 29, 88, 44, 22, 11, 34, 17, 52, 26, 13, 40, 20, 10, 5, 16, 8]\n",
      "[100, 50, 25, 76, 38, 19, 58, 29, 88, 44, 22, 11, 34, 17, 52, 26, 13, 40, 20, 10, 5, 16, 8, 4]\n",
      "[100, 50, 25, 76, 38, 19, 58, 29, 88, 44, 22, 11, 34, 17, 52, 26, 13, 40, 20, 10, 5, 16, 8, 4, 2]\n",
      "[100, 50, 25, 76, 38, 19, 58, 29, 88, 44, 22, 11, 34, 17, 52, 26, 13, 40, 20, 10, 5, 16, 8, 4, 2, 1]\n"
     ]
    }
   ],
   "source": [
    "n = int(input(\"Enter a positive integer\\n\"))\n",
    "list1 = []\n",
    "list1.append(n)\n",
    "while list1[-1] != 1:\n",
    "    if list1[-1] % 2 == 0:\n",
    "        list1.append(list1[-1] // 2)\n",
    "    else:\n",
    "        list1.append(list1[-1] * 3 + 1)\n",
    "    print(list1)"
   ]
  },
  {
   "cell_type": "markdown",
   "id": "1c4100f8",
   "metadata": {},
   "source": [
    "Exercise 79: Greatest Common Divisor\n",
    "\n",
    "The greatest common divisor of two positive integers, n and m, is the largest number,\n",
    "d, which divides evenly into both n and m. There are several algorithms that can be\n",
    "used to solve this problem, including:\n",
    "Initialize d to the smaller of m and n.\n",
    "While d does not evenly divide m or d does not evenly divide n do\n",
    "Decrease the value of d by 1\n",
    "Report d as the greatest common divisor of n and m\n",
    "Write a program that reads two positive integers from the user and uses this algorithm\n",
    "to determine and report their greatest common divisor."
   ]
  },
  {
   "cell_type": "code",
   "execution_count": 61,
   "id": "383d7238",
   "metadata": {},
   "outputs": [
    {
     "name": "stdout",
     "output_type": "stream",
     "text": [
      "Enter m value\n",
      "120\n",
      "Enter n value\n",
      "144\n",
      "GCD of 120 and 144 is 24\n"
     ]
    }
   ],
   "source": [
    "m = int(input(\"Enter m value\\n\"))\n",
    "n = int(input(\"Enter n value\\n\"))\n",
    "d = min(m,n)\n",
    "\n",
    "while m % d != 0 or n % d != 0:\n",
    "    d -= 1\n",
    "print(f\"GCD of {m} and {n} is {d}\")"
   ]
  },
  {
   "cell_type": "markdown",
   "id": "6225968e",
   "metadata": {},
   "source": [
    "Exercise 81: Binary to Decimal\n",
    "\n",
    "Write a program that converts a binary (base 2) number to decimal (base 10). Your\n",
    "program should begin by reading the binary number from the user as a string. Then\n",
    "it should compute the equivalent decimal number by processing each digit in the\n",
    "binary number. Finally, your program should display the equivalent decimal number\n",
    "with an appropriate message."
   ]
  },
  {
   "cell_type": "code",
   "execution_count": 69,
   "id": "54a4a22d",
   "metadata": {},
   "outputs": [
    {
     "name": "stdout",
     "output_type": "stream",
     "text": [
      "Enter a binary number\n",
      "10\n",
      "Decimal of binary number 10 is 1\n"
     ]
    }
   ],
   "source": [
    "binary = input(\"Enter a binary number\\n\")\n",
    "dec = 0\n",
    "for i in range(len(binary)):\n",
    "    dec += int(binary[i]) * 2 ** i\n",
    "    \n",
    "print(f\"Decimal of binary number {binary} is {dec}\")"
   ]
  },
  {
   "cell_type": "markdown",
   "id": "c338d5ba",
   "metadata": {},
   "source": [
    "Exercise 80: Prime Factors\n",
    "\n",
    "The prime factorization of an integer, n, can be determined using the following steps:\n",
    "Initialize factor to 2\n",
    "While factor is less than or equal to n do\n",
    "If n is evenly divisible by factor then\n",
    "Conclude that factor is a factor of n\n",
    "Divide n by factor using floor division\n",
    "Else\n",
    "Increase factor by 1\n",
    "Write a program that reads an integer from the user. If the value entered by the\n",
    "user is less than 2 then your program should display an appropriate error message.\n",
    "Otherwise your program should display the prime numbers that can be multiplied\n",
    "together to compute n, with one factor appearing on each line. For example:"
   ]
  },
  {
   "cell_type": "code",
   "execution_count": 94,
   "id": "7e0518a8",
   "metadata": {
    "scrolled": true
   },
   "outputs": [
    {
     "name": "stdout",
     "output_type": "stream",
     "text": [
      "Enter an integer\n",
      "9\n",
      "Prime factors of 9: \n",
      "3\n",
      "3\n"
     ]
    }
   ],
   "source": [
    "n = int(input(\"Enter an integer\\n\"))\n",
    "factor = 2\n",
    "print(f\"Prime factors of {n}: \") \n",
    "while factor <= n:\n",
    "    if n % factor == 0:\n",
    "        print(factor) \n",
    "        n  = n // factor\n",
    "    else:\n",
    "        factor += 1\n",
    "   "
   ]
  },
  {
   "cell_type": "markdown",
   "id": "4f8d1ed9",
   "metadata": {},
   "source": [
    "Exercise 64: Discount Table\n",
    "\n",
    "A particular retailer is having a 60 percent off sale on a variety of discontinued\n",
    "products. The retailer would like to help its customers determine the reduced price\n",
    "of the merchandise by having a printed discount table on the shelf that shows the\n",
    "original prices and the prices after the discount has been applied. Write a program that\n",
    "uses a loop to generate this table, showing the original price, the discount amount,\n",
    "and the new price for purchases of $4.95, $9.95, $14.95, $19.95 and $24.95. Ensure\n",
    "that the discount amounts and the new prices are rounded to 2 decimal places when\n",
    "they are displayed."
   ]
  },
  {
   "cell_type": "code",
   "execution_count": 100,
   "id": "469d37d3",
   "metadata": {},
   "outputs": [
    {
     "name": "stdout",
     "output_type": "stream",
     "text": [
      "Original Price  | Discount  | New Price\n",
      "           4.95 |      2.97 |       1.98\n",
      "           9.95 |      5.97 |       3.98\n",
      "          14.95 |      8.97 |       5.98\n",
      "          19.95 |     11.97 |       7.98\n",
      "          24.95 |     14.97 |       9.98\n"
     ]
    }
   ],
   "source": [
    "print(\"{0:15} | {1:9} | {2:9}\".format(\"Original Price\",\"Discount\",\"New Price\"))\n",
    "my_list = [4.95, 9.95, 14.95, 19.95 , 24.95]\n",
    "\n",
    "for item in my_list:\n",
    "    dis = item * 0.6\n",
    "    new = item - dis\n",
    "    print(\"{0:15} | {1:9.2f} | {2:10.2f}\".format(item,dis,new))\n"
   ]
  },
  {
   "cell_type": "markdown",
   "id": "388325ef",
   "metadata": {},
   "source": [
    "Exercise 63:Average\n",
    "\n",
    "In this exercise you will create a program that computes the average of a collection\n",
    "of values entered by the user. The user will enter 0 as a sentinel value to indicate\n",
    "that no further values will be provided. Your program should display an appropriate\n",
    "error message if the first value entered by the user is 0."
   ]
  },
  {
   "cell_type": "code",
   "execution_count": 1,
   "id": "a7c5b9fa",
   "metadata": {},
   "outputs": [
    {
     "name": "stdout",
     "output_type": "stream",
     "text": [
      "Enter a number\n",
      "10\n",
      "Enter a number\n",
      "0\n",
      "Average: 10.0\n"
     ]
    }
   ],
   "source": [
    "num = int(input(\"Enter a number\\n\"))\n",
    "c = 0\n",
    "s =0\n",
    "while num != 0:\n",
    "    c += 1\n",
    "    s += num\n",
    "    num = int(input(\"Enter a number\\n\"))\n",
    "    \n",
    "print(f\"Average: {s/c}\") "
   ]
  },
  {
   "cell_type": "markdown",
   "id": "31d8b742",
   "metadata": {},
   "source": [
    "Exercise 66: No More Pennies\n",
    "\n",
    "February 4, 2013was the last day that pennies were distributed by the Royal Canadian\n",
    "Mint. Now that pennies have been phased out retailers must adjust totals so that they\n",
    "are multiples of 5 cents when they are paid for with cash (credit card and debit card\n",
    "transactions continue to be charged to the penny). While retailers have some freedom\n",
    "in how they do this, most choose to round to the closest nickel.\n",
    "Write a program that reads prices from the user until a blank line is entered.\n",
    "Display the total cost of all the entered items on one line, followed by the amount\n",
    "due if the customer pays with cash on a second line. The amount due for a cash\n",
    "payment should be rounded to the nearest nickel. One way to compute the cash\n",
    "payment amount is to begin by determining how many pennies would be needed to\n",
    "pay the total. Then compute the remainder when this number of pennies is divided\n",
    "by 5. Finally, adjust the total down if the remainder is less than 2.5. Otherwise adjust\n",
    "the total up."
   ]
  },
  {
   "cell_type": "code",
   "execution_count": 6,
   "id": "f4ed16e8",
   "metadata": {},
   "outputs": [
    {
     "name": "stdout",
     "output_type": "stream",
     "text": [
      "Enter the price of the item (blank to quit)\n",
      " 10\n",
      "Enter the price of the item (blank to quit)\n",
      " 20\n",
      "Enter the price of the item (blank to quit)\n",
      " \n",
      "The exact amount payable is 30.00\n",
      "The cash amount payable is 30.00\n"
     ]
    }
   ],
   "source": [
    "PENNIES_PER_NICKEL = 5\n",
    "NICKEL = 0.05\n",
    "total = 0.00\n",
    "\n",
    "line = input(\"Enter the price of the item (blank to quit)\\n \")\n",
    "\n",
    "while line != \"\":\n",
    "    total = total + float(line)\n",
    "    line = input(\"Enter the price of the item (blank to quit)\\n \")\n",
    "print(\"The exact amount payable is %.02f\" % total)\n",
    "rounding_indicator = total * 100 % PENNIES_PER_NICKEL\n",
    "\n",
    "if rounding_indicator < PENNIES_PER_NICKEL / 2:\n",
    "    cash_total = total - rounding_indicator / 100\n",
    "else:\n",
    "    cash_total = total + NICKEL - rounding_indicator / 100\n",
    "\n",
    "print(\"The cash amount payable is %.02f\" % cash_total)"
   ]
  }
 ],
 "metadata": {
  "kernelspec": {
   "display_name": "Python 3 (ipykernel)",
   "language": "python",
   "name": "python3"
  },
  "language_info": {
   "codemirror_mode": {
    "name": "ipython",
    "version": 3
   },
   "file_extension": ".py",
   "mimetype": "text/x-python",
   "name": "python",
   "nbconvert_exporter": "python",
   "pygments_lexer": "ipython3",
   "version": "3.9.7"
  }
 },
 "nbformat": 4,
 "nbformat_minor": 5
}
