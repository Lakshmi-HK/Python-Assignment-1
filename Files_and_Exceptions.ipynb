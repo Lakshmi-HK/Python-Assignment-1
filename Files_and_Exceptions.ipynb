{
 "cells": [
  {
   "cell_type": "code",
   "execution_count": 1,
   "id": "abe9417c",
   "metadata": {},
   "outputs": [],
   "source": [
    "#Files and Exceptions"
   ]
  },
  {
   "cell_type": "markdown",
   "id": "c16c7813",
   "metadata": {},
   "source": [
    "Exercise 149: Display the Head of a File\n",
    "    \n",
    "Unix-based operating systems usually include a tool named head. It displays the\n",
    "first 10 lines of a file whose name is provided as a command line argument. Write\n",
    "a Python program that provides the same behaviour. Display an appropriate error\n",
    "message if the file requested by the user does not exist, or if the command line\n",
    "argument is omitted."
   ]
  },
  {
   "cell_type": "code",
   "execution_count": 4,
   "id": "10dd697b",
   "metadata": {},
   "outputs": [
    {
     "name": "stdout",
     "output_type": "stream",
     "text": [
      "Error in accessing file\n"
     ]
    }
   ],
   "source": [
    "import sys\n",
    "lines = 10\n",
    "    \n",
    "try:\n",
    "    f = open(\"file1.txt\",\"r\")\n",
    "    line = f.readline()\n",
    "    c = 0\n",
    "    while  count < lines and line != \"\":\n",
    "        line = line.rstrip()\n",
    "        count += 1\n",
    "        print(line)\n",
    "        line = f.readline()\n",
    "    f.close()\n",
    "    \n",
    "except:\n",
    "    print(\"Error in accessing file\")"
   ]
  },
  {
   "cell_type": "markdown",
   "id": "e29d8e2a",
   "metadata": {},
   "source": [
    "Exercise 156:Sum a Collection of Numbers\n",
    "\n",
    "Create a program that sums all of the numbers entered by the user while ignoring\n",
    "any input that is not a valid number. Your program should display the current sum\n",
    "after each number is entered. It should display an appropriate message after each\n",
    "non-numeric input, and then continue to sum any additional numbers entered by the\n",
    "user. Exit the program when the user enters a blank line. Ensure that your program\n",
    "works correctly for both integers and floating-point numbers."
   ]
  },
  {
   "cell_type": "code",
   "execution_count": 16,
   "id": "9cf793ab",
   "metadata": {},
   "outputs": [
    {
     "name": "stdout",
     "output_type": "stream",
     "text": [
      "Enter a number\n",
      "1\n",
      "Current sum : 1.0\n",
      "Enter a number\n",
      "2\n",
      "Current sum : 3.0\n",
      "Enter a number\n",
      "s\n",
      "Error: Entered data type is not valid\n",
      "Enter a number\n",
      "2\n",
      "Current sum : 5.0\n",
      "Enter a number\n",
      " \n",
      "Total is : 5.0\n"
     ]
    }
   ],
   "source": [
    "total = 0\n",
    "n = input(\"Enter a number\\n\")\n",
    "\n",
    "while n != \" \":\n",
    "    try:\n",
    "        num = float(n)\n",
    "        total += num\n",
    "        print(f\"Current sum : {total}\")\n",
    "    except ValueError:\n",
    "        print(\"Error: Entered data type is not valid\")\n",
    "    n = input(\"Enter a number\\n\")\n",
    "print(f\"Total is : {total}\")"
   ]
  },
  {
   "cell_type": "markdown",
   "id": "21c9e356",
   "metadata": {},
   "source": [
    "Exercise 158:Remove Comments\n",
    "\n",
    "Python uses the # character to mark the beginning of a comment. The comment\n",
    "continues from the # character to the end of the line containing it. Python does not\n",
    "provide any mechanism for ending a comment before the end of a line.\n",
    "In this exercise, you will create a program that removes all of the comments from a\n",
    "Python source file. Check each line in the file to determine if a # character is present.\n",
    "If it is then your program should remove all of the characters from the # character to\n",
    "the end of the line (we will ignore the situation where the comment character occurs\n",
    "inside of a string). Save the modified file using a new name. Both the name of the\n",
    "input file and the name of the output file should be read from the user. Ensure that an\n",
    "appropriate error message is displayed if a problem is encountered while accessing\n",
    "either of the files."
   ]
  },
  {
   "cell_type": "code",
   "execution_count": 4,
   "id": "a432ac1c",
   "metadata": {},
   "outputs": [
    {
     "name": "stdout",
     "output_type": "stream",
     "text": [
      "Enter the name of a Python file\n",
      " file1\n",
      "Enter the output file name\n",
      " file1op\n"
     ]
    }
   ],
   "source": [
    "import sys\n",
    "try:\n",
    "    input_file= input(\"Enter the name of a Python file\\n \")\n",
    "    inf = open(input_file, \"r\")\n",
    "\n",
    "except:\n",
    "    print(\"Error in accessing the input file.\")\n",
    "    quit()\n",
    "\n",
    "try:\n",
    "    output_file = input(\"Enter the output file name\\n \")\n",
    "    outf = open(output_file, \"w\")\n",
    "except:\n",
    "    inf.close()\n",
    "    print(\"A problem was encountered with the output file.\")\n",
    "    print(\"Quitting...\")\n",
    "    quit()\n",
    "try:\n",
    "    for line in inf:\n",
    "        pos = line.find(\"#\")\n",
    "        if pos > -1:\n",
    "            line = line[0 : pos]\n",
    "            line = line + \"\\n\"\n",
    "        outf.write(line)\n",
    "    inf.close()\n",
    "    outf.close()\n",
    "except:\n",
    "    print(\"A problem was encountered while processing the file.\")\n",
    "    print(\"Quitting...\")"
   ]
  },
  {
   "cell_type": "markdown",
   "id": "4be76850",
   "metadata": {},
   "source": [
    "Exercise 159:TwoWord Random Password\n",
    "    \n",
    "While generating a password by selecting random characters usually creates one that\n",
    "is relatively secure, it also generally gives a password that is difficult to memorize.\n",
    "As an alternative, some systems construct a password by taking two English words\n",
    "and concatenating them. While this password may not be as secure, it is normally\n",
    "much easier to memorize.\n",
    "Write a program that reads a file containing a list of words, randomly selects two\n",
    "of them, and concatenates them to produce a new password. When producing the\n",
    "password ensure that the total length is between 8 and 10 characters, and that each\n",
    "word used is at least three letters long. Capitalize each word in the password so that\n",
    "the user can easily see where one word ends and the next one begins. Finally, your\n",
    "program should display the password for the user."
   ]
  },
  {
   "cell_type": "code",
   "execution_count": 27,
   "id": "41245c68",
   "metadata": {},
   "outputs": [
    {
     "name": "stdout",
     "output_type": "stream",
     "text": [
      "The random password is: OrangePeas\n"
     ]
    }
   ],
   "source": [
    "from random import randrange\n",
    "input_file = \"file1\"\n",
    "words = []\n",
    "inf = open(input_file, \"r\")\n",
    "for line in inf:\n",
    "    line = line.rstrip()\n",
    "    if len(line) >= 3 and len(line) <= 7:\n",
    "        words.append(line)\n",
    "\n",
    "inf.close()\n",
    "\n",
    "first = words[randrange(0, len(words))]\n",
    "first = first.capitalize()\n",
    "\n",
    "password = first\n",
    "while len(password) < 8 or len(password) > 10:\n",
    "    second = words[randrange(0, len(words))]\n",
    "    second = second.capitalize()\n",
    "    password = first + second\n",
    "\n",
    "print(\"The random password is:\", password)"
   ]
  },
  {
   "cell_type": "markdown",
   "id": "f1f0ad30",
   "metadata": {},
   "source": [
    "Exercise 162:A Book with No E...\n",
    "\n",
    "The novel “Gadsby” is over 50,000 words in length. While 50,000 words is not\n",
    "normally remarkable for a novel, it is in this case because none of the words in the\n",
    "book use the letter E. This is particularly noteworthy when one considers that E is\n",
    "the most common letter in English.\n",
    "Write a program that reads a list of words from a file and determines what proportion\n",
    "of the words use each letter of the alphabet. Display this result for all 26 letters\n",
    "and include an additional message that identifies the letter that is used in the smallest\n",
    "proportion of the words. Your program should ignore any punctuation marks that are\n",
    "present in the file and it should treat uppercase and lowercase letters as equivalent."
   ]
  },
  {
   "cell_type": "code",
   "execution_count": 30,
   "id": "b6e95722",
   "metadata": {},
   "outputs": [
    {
     "name": "stdout",
     "output_type": "stream",
     "text": [
      "A occurs in 0.00 percent of words\n",
      "B occurs in 100.00 percent of words\n",
      "C occurs in 100.00 percent of words\n",
      "D occurs in 0.00 percent of words\n",
      "E occurs in 100.00 percent of words\n",
      "F occurs in 0.00 percent of words\n",
      "G occurs in 0.00 percent of words\n",
      "H occurs in 0.00 percent of words\n",
      "I occurs in 0.00 percent of words\n",
      "J occurs in 0.00 percent of words\n",
      "K occurs in 0.00 percent of words\n",
      "L occurs in 0.00 percent of words\n",
      "M occurs in 100.00 percent of words\n",
      "N occurs in 0.00 percent of words\n",
      "O occurs in 0.00 percent of words\n",
      "P occurs in 0.00 percent of words\n",
      "Q occurs in 0.00 percent of words\n",
      "R occurs in 100.00 percent of words\n",
      "S occurs in 0.00 percent of words\n",
      "T occurs in 0.00 percent of words\n",
      "U occurs in 100.00 percent of words\n",
      "V occurs in 0.00 percent of words\n",
      "W occurs in 0.00 percent of words\n",
      "X occurs in 0.00 percent of words\n",
      "Y occurs in 0.00 percent of words\n",
      "Z occurs in 0.00 percent of words\n",
      "\n",
      "The letter that is easiest to avoid is Z\n"
     ]
    }
   ],
   "source": [
    "WORD_FILE = \"file1\"\n",
    "counts = {}\n",
    "for ch in \"ABCDEFGHIJKLMNOPQRSTUVWXYZ\":\n",
    "    counts[ch] = 0\n",
    "\n",
    "num_words = 0\n",
    "inf = open(WORD_FILE, \"r\")\n",
    "for word in inf:\n",
    "    word = word.upper().rstrip()\n",
    "    unique = []\n",
    "    for ch in word:\n",
    "        if ch not in unique and ch >= \"A\" and ch <= \"Z\":\n",
    "            unique.append(ch)\n",
    "        \n",
    "for ch in unique:\n",
    "    counts[ch] = counts[ch] + 1\n",
    "\n",
    "num_words = num_words + 1\n",
    "\n",
    "inf.close()\n",
    "\n",
    "smallest_count = min(counts.values())\n",
    "for ch in sorted(counts):\n",
    "    if counts[ch] == smallest_count:\n",
    "        smallest_letter = ch\n",
    "    percentage = counts[ch] / num_words * 100\n",
    "    print(ch, \"occurs in %.2f percent of words\" % percentage)\n",
    "\n",
    "print()\n",
    "print(\"The letter that is easiest to avoid is\", smallest_letter)"
   ]
  },
  {
   "cell_type": "markdown",
   "id": "bd66526b",
   "metadata": {},
   "source": [
    "Exercise 169: Redacting Text in a File\n",
    "\n",
    "Sensitive information is often removed, or redacted, from documents before they\n",
    "are released to the public. When the documents are released it is common for the\n",
    "redacted text to be replaced with black bars.\n",
    "In this exercise you will write a program that redacts all occurrences of sensitive\n",
    "words in a text file by replacing them with asterisks. Your program should redact\n",
    "sensitive words wherever they occur, even if they occur in the middle of another\n",
    "word. The list of sensitive words will be provided in a separate text file. Save the\n",
    "redacted version of the original text in a new file. The names of the original text file,\n",
    "sensitive words file, and redacted file will all be provided by the user.\n",
    "For an added challenge, extend your program so that it redacts words in a case\n",
    "insensitive manner. For example, if exam appears in the list of sensitive words then\n",
    "redact exam, Exam, ExaM and EXAM, among other possible capitalizations."
   ]
  },
  {
   "cell_type": "code",
   "execution_count": 7,
   "id": "2a2172e6",
   "metadata": {},
   "outputs": [
    {
     "name": "stdout",
     "output_type": "stream",
     "text": [
      "Enter the name of the text file to redact: file1\n",
      "Enter the name of the sensitive words file: sensitive_data\n",
      "Enter the name for the new redacted file: file1op\n",
      "Written into file\n"
     ]
    }
   ],
   "source": [
    "inf_name = input(\"Enter the name of the text file to redact: \")\n",
    "inf = open(inf_name, \"r\")\n",
    "\n",
    "sen_name = input(\"Enter the name of the sensitive words file: \")\n",
    "sen = open(sen_name, \"r\")\n",
    "\n",
    "words = []\n",
    "line = sen.readline()\n",
    "while line != \"\":\n",
    "    line = line.rstrip()\n",
    "    words.append(line)\n",
    "    line = sen.readline()\n",
    "\n",
    "sen.close()\n",
    "\n",
    "outf_name = input(\"Enter the name for the new redacted file: \")\n",
    "outf = open(outf_name, \"w+\")\n",
    "\n",
    "line = inf.readline()\n",
    "while line != \"\":\n",
    "    for word in words:\n",
    "        line = line.replace(word, \"*\" * len(word))\n",
    "\n",
    "    outf.write(line)\n",
    "    line = inf.readline()\n",
    "print(\"Written into file\")\n",
    "inf.close()\n",
    "outf.close()"
   ]
  },
  {
   "cell_type": "markdown",
   "id": "d01f3476",
   "metadata": {},
   "source": [
    "Exercise 170:Missing Comments\n",
    "\n",
    "When one writes a function, it is generally a good idea to include a comment that\n",
    "outlines the function’s purpose, its parameters and its return value. However, sometimes\n",
    "comments are forgotten, or left out by well-intentioned programmers that plan\n",
    "to write them later but then never get around to it.\n",
    "Create a Python program that reads one or more Python source files and identifies\n",
    "functions that are not immediately preceded by a comment. For the purposes of this\n",
    "exercise, assume that any line that begins with def, followed by a space, is the\n",
    "beginning of a function definition. Assume that the comment character, #, will be\n",
    "the first character on the previous line when the function has a comment. Display the\n",
    "names of all of the functions that are missing comments, along with the file name\n",
    "and line number where the function definition is located.\n",
    "\n",
    "The user will provide the names of one or more Python files as command line\n",
    "arguments, all of which should be analyzed by your program. An appropriate error\n",
    "message should be displayed for any files that do not exist or cannot be opened. Then\n",
    "your program should process the remaining files."
   ]
  },
  {
   "cell_type": "code",
   "execution_count": 10,
   "id": "3c162825",
   "metadata": {},
   "outputs": [
    {
     "name": "stdout",
     "output_type": "stream",
     "text": [
      "A problem was encountered with file ’-f’.\n",
      "Moving on to the next file...\n"
     ]
    }
   ],
   "source": [
    "from sys import argv\n",
    "\n",
    "if len(argv) == 1:\n",
    "    print(\"At least one filename must be provided as a\", \"command line argument.\")\n",
    "    print(\"Quitting...\")\n",
    "    quit()\n",
    "\n",
    "for fname in argv[1 : len(argv)]:\n",
    "    try:\n",
    "        inf = open(fname, \"r\")\n",
    "        prev = \" \"\n",
    "        lnum = 1\n",
    "        for line in inf:\n",
    "            if line.startswith(\"def \") and prev[0] != \"#\":\n",
    "                bracket_pos = line.index(\"(\")\n",
    "                name = line[4 : bracket_pos]\n",
    "                print(\"%s line %d: %s\" % (fname, lnum, name))\n",
    "            prev = line\n",
    "            lnum = lnum + 1\n",
    "        inf.close()\n",
    "    except:\n",
    "        print(\"A problem was encountered with file ’%s’.\" % fname)\n",
    "        print(\"Moving on to the next file...\")\n"
   ]
  },
  {
   "cell_type": "markdown",
   "id": "c511e585",
   "metadata": {},
   "source": [
    "Exercise 151: Concatenate Multiple Files\n",
    "\n",
    "Unix-based operating systems typically include a tool named cat, which is short for\n",
    "concatenate. Its purpose is to display the concatenation of one or more files whose\n",
    "names are provided as command line arguments. The files are displayed in the same\n",
    "order that they appear on the command line.\n",
    "Create a Python program that performs this task. It should generate an appropriate\n",
    "error message for any file that cannot be displayed, and then proceed to the next file.\n",
    "Display an appropriate error message if your program is started without any command\n",
    "line arguments."
   ]
  },
  {
   "cell_type": "code",
   "execution_count": 7,
   "id": "e350861d",
   "metadata": {},
   "outputs": [
    {
     "name": "stdout",
     "output_type": "stream",
     "text": [
      "Couldn’t open/display -f\n",
      "{\n",
      "  \"shell_port\": 52092,\n",
      "  \"iopub_port\": 52093,\n",
      "  \"stdin_port\": 52094,\n",
      "  \"control_port\": 52096,\n",
      "  \"hb_port\": 52095,\n",
      "  \"ip\": \"127.0.0.1\",\n",
      "  \"key\": \"3b053cd5-1ec7be23991983c911e97fb6\",\n",
      "  \"transport\": \"tcp\",\n",
      "  \"signature_scheme\": \"hmac-sha256\",\n",
      "  \"kernel_name\": \"\"\n",
      "}"
     ]
    }
   ],
   "source": [
    "import sys\n",
    "\n",
    "if len(sys.argv) == 1:\n",
    "    print(\"You must provide at least one file name.\")\n",
    "    quit()\n",
    "\n",
    "for i in range(1, len(sys.argv)):\n",
    "    fname = sys.argv[i]\n",
    "    try:\n",
    "        inf = open(fname, \"r\")\n",
    "        for line in inf:\n",
    "            print(line, end=\"\")\n",
    "        inf.close()\n",
    "    except:\n",
    "        print(\"Couldn’t open/display\", fname)"
   ]
  },
  {
   "cell_type": "code",
   "execution_count": null,
   "id": "b4624a88",
   "metadata": {},
   "outputs": [],
   "source": []
  }
 ],
 "metadata": {
  "kernelspec": {
   "display_name": "Python 3 (ipykernel)",
   "language": "python",
   "name": "python3"
  },
  "language_info": {
   "codemirror_mode": {
    "name": "ipython",
    "version": 3
   },
   "file_extension": ".py",
   "mimetype": "text/x-python",
   "name": "python",
   "nbconvert_exporter": "python",
   "pygments_lexer": "ipython3",
   "version": "3.9.7"
  }
 },
 "nbformat": 4,
 "nbformat_minor": 5
}
