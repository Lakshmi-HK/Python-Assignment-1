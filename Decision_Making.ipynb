{
 "cells": [
  {
   "cell_type": "markdown",
   "id": "0a30c3f3",
   "metadata": {},
   "source": [
    "Exercise 41: Classifying Triangles\n",
    "\n",
    "A triangle can be classified based on the lengths of its sides as equilateral, isosceles or\n",
    "scalene. All three sides of an equilateral triangle have the same length. An isosceles\n",
    "triangle has two sides that are the same length, and a third side that is a different\n",
    "length. If all of the sides have different lengths then the triangle is scalene.\n",
    "Write a program that reads the lengths of the three sides of a triangle from the\n",
    "user. Then display a message that states the triangle’s type."
   ]
  },
  {
   "cell_type": "code",
   "execution_count": 4,
   "id": "d454d07a",
   "metadata": {},
   "outputs": [
    {
     "name": "stdout",
     "output_type": "stream",
     "text": [
      "Enter the first side of a triangle\n",
      "1\n",
      "Enter the second side of a triangle\n",
      "2\n",
      "Enter the third side of a triangle\n",
      "3\n",
      "It is a scalene triangle\n"
     ]
    }
   ],
   "source": [
    "s1 = float(input(\"Enter the first side of a triangle\\n\"))\n",
    "s2 = float(input(\"Enter the second side of a triangle\\n\"))\n",
    "s3 = float(input(\"Enter the third side of a triangle\\n\"))\n",
    "\n",
    "if s1 == s2 == s3:\n",
    "    print(\"It is an equilateral triangle\")\n",
    "elif (s1 == s2) or (s2 == s3) or (s3 == s1):\n",
    "    print(\"It is an isosceles triangle\")\n",
    "else:\n",
    "    print(\"It is a scalene triangle\")"
   ]
  },
  {
   "cell_type": "markdown",
   "id": "a35c8bfc",
   "metadata": {},
   "source": [
    "Exercise 39:Month Name to Number of Days\n",
    "\n",
    "The length of a month varies from 28 to 31 days. In this exercise you will create\n",
    "a program that reads the name of a month from the user as a string. Then your\n",
    "program should display the number of days in that month. Display “28 or 29 days”\n",
    "for February so that leap years are addressed."
   ]
  },
  {
   "cell_type": "code",
   "execution_count": 5,
   "id": "efa88614",
   "metadata": {},
   "outputs": [
    {
     "name": "stdout",
     "output_type": "stream",
     "text": [
      "Enter the month\n",
      "November\n",
      "November has 30 days\n"
     ]
    }
   ],
   "source": [
    "month = input(\"Enter the month\\n\")\n",
    "days_30 = ['April' , 'June' , 'September' , 'November']\n",
    "days_31 = ['January' , 'March', 'May','July','August','October','December']\n",
    "\n",
    "if month in days_30:\n",
    "    print(f\"{month} has 30 days\")\n",
    "elif  month in days_31:\n",
    "    print(f\"{month} has 31 days\")\n",
    "elif month == 'February':\n",
    "      print(f\"{month} has 28 or 29 days\")\n",
    "else:\n",
    "    print(\"Enter valid month\\n\")\n",
    "    "
   ]
  },
  {
   "cell_type": "markdown",
   "id": "0e80d756",
   "metadata": {},
   "source": [
    "Exercise 50: Richter Scale\n",
    "    \n",
    "The following table contains earthquake magnitude ranges on the Richter scale and\n",
    "their descriptors:\n",
    "    \n",
    "Write a program that reads a magnitude from the user and displays the appropriate\n",
    "descriptor as part of a meaningful message. For example, if the user enters 5.5 then\n",
    "\n",
    "your program should indicate that a magnitude 5.5 earthquake is considered to be a\n",
    "moderate earthquake.\n",
    "Exercise"
   ]
  },
  {
   "cell_type": "code",
   "execution_count": 31,
   "id": "497fd166",
   "metadata": {},
   "outputs": [
    {
     "name": "stdout",
     "output_type": "stream",
     "text": [
      "Enter the magnitude\n",
      "2.6\n",
      "Magnitude 2.6 is considered to be a very minor earthquake\n"
     ]
    }
   ],
   "source": [
    "mag = float(input(\"Enter the magnitude\\n\"))\n",
    "\n",
    "if mag < 2.0:\n",
    "    print(f\"Magnitude {mag} is considered to be a micro earthquake\")\n",
    "    \n",
    "elif (mag >= 2.0) and (mag < 3.0):\n",
    "    print(f\"Magnitude {mag} is considered to be a very minor earthquake\")\n",
    "    \n",
    "elif (mag >= 3.0) and (mag < 4.0):\n",
    "    print(f\"Magnitude {mag} is considered to be a minor earthquake\")\n",
    "    \n",
    "elif (mag >= 4.0) and (mag < 5.0):\n",
    "    print(f\"Magnitude {mag} is considered to be a light earthquake\")\n",
    "    \n",
    "elif (mag >= 5.0) and (mag < 6.0):\n",
    "    print(f\"Magnitude {mag} is considered to be a moderate earthquake\")\n",
    "    \n",
    "elif (mag >= 6.0) and (mag < 7.0):\n",
    "    print(f\"Magnitude {mag} is considered to be a strong earthquake\")\n",
    "    \n",
    "elif (mag >= 7.0) and (mag < 8.0):\n",
    "    print(f\"Magnitude {mag} is considered to be a major earthquake\")\n",
    "    \n",
    "elif (mag >= 8.0) and (mag < 10.0):\n",
    "    print(f\"Magnitude {mag} is considered to be a great earthquake\")\n",
    "    \n",
    "else:\n",
    "     print(f\"Magnitude {mag} is considered to be a meteoric earthquake\")\n",
    "\n"
   ]
  },
  {
   "cell_type": "markdown",
   "id": "c669592e",
   "metadata": {},
   "source": [
    "Exercise 54: Assessing Employees\n",
    "    \n",
    "At a particular company, employees are rated at the end of each year. The rating scale\n",
    "begins at 0.0, with higher values indicating better performance and resulting in larger\n",
    "raises. The value awarded to an employee is either 0.0, 0.4, or 0.6 or more. Values\n",
    "between 0.0 and 0.4, and between 0.4 and 0.6 are never used. The meaning associated\n",
    "with each rating is shown in the following table. The amount of an employee’s raise\n",
    "is $2,400.00 multiplied by their rating.\n",
    "\n",
    "Write a program that reads a rating from the user and indicates whether the performance\n",
    "for that rating is unacceptable, acceptable or meritorious. The amount\n",
    "of the employee’s raise should also be reported. Your program should display an\n",
    "appropriate error message if an invalid rating is entered."
   ]
  },
  {
   "cell_type": "code",
   "execution_count": 29,
   "id": "74c7dbdf",
   "metadata": {},
   "outputs": [
    {
     "name": "stdout",
     "output_type": "stream",
     "text": [
      "Enter the rating\n",
      "1.2\n",
      "Invalid rating\n"
     ]
    }
   ],
   "source": [
    "rating = float(input(\"Enter the rating\\n\"))\n",
    "\n",
    "if rating == 0.0:\n",
    "    amount = 2400.00 * rating\n",
    "    print(\"Unacceptable Performance\")\n",
    "    print(f\"The amount of an employee’s raise is {amount}\")\n",
    "elif rating == 0.4:\n",
    "    amount = 2400.00 * rating\n",
    "    print(\"Acceptable Performance\")\n",
    "    print(f\"The amount of an employee’s raise is {amount}\")\n",
    "elif (rating >= 0.6 and rating <= 1.0):\n",
    "    amount = 2400.00 * rating\n",
    "    print(\"Meritorious Performance\")\n",
    "    print(f\"The amount of an employee’s raise is {amount}\")\n",
    "else:\n",
    "     print(\"Invalid rating\")   \n",
    "    "
   ]
  },
  {
   "cell_type": "markdown",
   "id": "10efe540",
   "metadata": {},
   "source": [
    "Exercise 57: Cell Phone Bill\n",
    "\n",
    "A particular cell phone plan includes 50 minutes of air time and 50 text messages\n",
    "for $15.00 a month. Each additional minute of air time costs $0.25, while additional\n",
    "text messages cost $0.15 each. All cell phone bills include an additional charge of\n",
    "$0.44 to support 911 call centers, and the entire bill (including the 911 charge) is\n",
    "subject to 5 percent sales tax.\n",
    "Write a program that reads the number of minutes and text messages used in a\n",
    "month from the user. Display the base charge, additional minutes charge (if any),additional text message charge (if any), \n",
    "the 911 fee, tax and total bill amount. Only display the additional minute and text message charges if the user incurred \n",
    "costs in these categories. Ensure that all of the charges are displayed using 2 decimal places."
   ]
  },
  {
   "cell_type": "code",
   "execution_count": 35,
   "id": "0c1cc175",
   "metadata": {},
   "outputs": [
    {
     "name": "stdout",
     "output_type": "stream",
     "text": [
      "Enter the number of minutes used in this month\n",
      "56\n",
      "Enter the number of text messages  used in this month\n",
      "59\n",
      "Additional minute charges: $  1.5\n",
      "Additional text message charges: $  1.3\n",
      "Total bill : $1.9e+01\n"
     ]
    }
   ],
   "source": [
    "air_time = float(input(\"Enter the number of minutes used in this month\\n\"))\n",
    "text_msg = int(input(\"Enter the number of text messages  used in this month\\n\"))\n",
    "\n",
    "if air_time <= 50 and text_msg <=50 :\n",
    "    total = 15 + 0.44 + (15 + 0.44) * 0.05\n",
    "    print(f\"Total bill : ${total:{5}.{2}}\")\n",
    "    \n",
    "else:\n",
    "    sales = (15 + (air_time - 50) * 0.25 + (text_msg - 50) * 0.15 + 0.44) * 0.05\n",
    "    total = 15 + (air_time - 50) * 0.25 + (text_msg - 50) * 0.15 + 0.44 + sales\n",
    "    print(f\"Additional minute charges: ${(air_time - 50) * 0.25 : {5}.{2}}\")\n",
    "    print(f\"Additional text message charges: ${(text_msg - 50) * 0.15 : {5}.{2}}\")\n",
    "    print(f\"Total bill : ${total:{5}.{2}}\")\n",
    "    \n",
    "    "
   ]
  },
  {
   "cell_type": "markdown",
   "id": "78ab281e",
   "metadata": {},
   "source": [
    "Exercise 60:What Day of theWeek Is January 1?\n",
    "\n",
    "The following formula can be used to determine the day of the week for January 1\n",
    "in a given year:\n",
    "    \n",
    "The result calculated by this formula is an integer that represents the day of the\n",
    "week. Sunday is represented by 0. The remaining days of the week following in\n",
    "sequence through to Saturday, which is represented by 6.\n",
    "Use the formula above to write a program that reads a year from the user and\n",
    "reports the day of the week for January 1 of that year. The output from your program\n",
    "should include the full name of the day of the week, not just the integer returned by\n",
    "the formula."
   ]
  },
  {
   "cell_type": "code",
   "execution_count": 37,
   "id": "015e6f91",
   "metadata": {},
   "outputs": [
    {
     "name": "stdout",
     "output_type": "stream",
     "text": [
      "Enter the year\n",
      "2020\n",
      "The day of the week for January 1 of 2020 is Wednesday\n"
     ]
    }
   ],
   "source": [
    "year = int(input(\"Enter the year\\n\"))\n",
    "\n",
    "day_of_the_week = (year + (year-1) // 4 - (year-1) // 100 + (year-1) // 400 ) % 7\n",
    "\n",
    "if day_of_the_week == 0:\n",
    "     print(f\"The day of the week for January 1 of {year} is Sunday\")\n",
    "elif day_of_the_week == 1:\n",
    "     print(f\"The day of the week for January 1 of {year} is Monday\")\n",
    "elif day_of_the_week == 2:\n",
    "     print(f\"The day of the week for January 1 of {year} is Tuesday\")\n",
    "elif day_of_the_week == 3:\n",
    "     print(f\"The day of the week for January 1 of {year} is Wednesday\")\n",
    "elif day_of_the_week == 4:\n",
    "     print(f\"The day of the week for January 1 of {year} is Thursday\")\n",
    "elif day_of_the_week == 5:\n",
    "     print(f\"The day of the week for January 1 of {year} is Friday\")\n",
    "else:\n",
    "    print(f\"The day of the week for January 1 of {year} is Saturday\")"
   ]
  },
  {
   "cell_type": "markdown",
   "id": "f55bb979",
   "metadata": {},
   "source": [
    "Exercise 61: Is a License Plate Valid?\n",
    "\n",
    "In a particular jurisdiction, older license plates consist of three uppercase letters\n",
    "followed by three digits. When all of the license plates following that pattern had\n",
    "been used, the format was changed to four digits followed by three uppercase letters.\n",
    "Write a program that begins by reading a string of characters from the user. Then\n",
    "your program should display a message indicating whether the characters are valid\n",
    "for an older style license plate or a newer style license plate. Your program should\n",
    "display an appropriate message if the string entered by the user is not valid for either\n",
    "style of license plate."
   ]
  },
  {
   "cell_type": "code",
   "execution_count": 44,
   "id": "d88703b2",
   "metadata": {},
   "outputs": [
    {
     "name": "stdout",
     "output_type": "stream",
     "text": [
      "Enter the license plate number\n",
      "DF786YU\n",
      "Invalid plate number\n"
     ]
    }
   ],
   "source": [
    "plate = input(\"Enter the license plate number\\n\")\n",
    "\n",
    "if len(plate) == 6:\n",
    "    if plate[0] >='A' and plate[0] <='Z' and plate[1] >='A' and plate[1] <='Z' and  plate[2] >='A' and plate[2] <='Z' and \\\n",
    "    plate[3] >= '0'  and plate[3] <= '9' and  plate[4] >= '0'  and plate[4] <= '9'  and plate[5] >= '0'  and plate[5] <= '9':\n",
    "        print(\"Entered plate is a old style license plate\")\n",
    "    else:\n",
    "        print(\"Invalid plate number\")\n",
    "elif len(plate) == 7:\n",
    "    if plate[0] >='0' and plate[0] <='9' and plate[1] >='0' and plate[1] <='9' and  plate[2] >='0' and plate[2] <='9' and \\\n",
    "    plate[3] >= '0'  and plate[3] <= '9' and  plate[4] >= 'A'  and plate[4] <='Z'  and plate[5] >='A'  and plate[5] <= 'Z' and \\\n",
    "    plate[6] >='A'  and plate[6] <= 'Z':\n",
    "        print(\"Entered plate is a new style license plate\")\n",
    "    else:\n",
    "        print(\"Invalid plate number\")\n",
    "\n",
    "        "
   ]
  },
  {
   "cell_type": "markdown",
   "id": "04eb4826",
   "metadata": {},
   "source": [
    "Exercise 38:Name That Shape\n",
    "\n",
    "Write a program that determines the name of a shape from its number of sides. Read\n",
    "the number of sides from the user and then report the appropriate name as part of\n",
    "a meaningful message. Your program should support shapes with anywhere from 3\n",
    "up to (and including) 10 sides. If a number of sides outside of this range is entered\n",
    "then your program should display an appropriate error message."
   ]
  },
  {
   "cell_type": "code",
   "execution_count": 1,
   "id": "06769f8f",
   "metadata": {},
   "outputs": [
    {
     "name": "stdout",
     "output_type": "stream",
     "text": [
      "Enter the number of sides (3 to 10)\n",
      "4\n",
      "Name of the shape with 4 sides is Quadrilateral\n"
     ]
    }
   ],
   "source": [
    "sides = int(input(\"Enter the number of sides (3 to 10)\\n\"))\n",
    "shape = \"\"\n",
    "\n",
    "if sides == 3:\n",
    "    shape = \"Triangle\"\n",
    "elif sides == 4:\n",
    "    shape = \"Quadrilateral\"\n",
    "elif sides == 5:\n",
    "    shape = \"Pentagon\"\n",
    "elif sides == 6:\n",
    "    shape = \"Hexagon\"\n",
    "elif sides == 7:\n",
    "    shape = \"Heptagon\"\n",
    "elif sides == 8:\n",
    "    shape = \"Octagon\"\n",
    "elif sides == 9:\n",
    "    shape = \"Nonagon\"\n",
    "elif sides == 3:\n",
    "    shape = \"Decogon\"\n",
    "    \n",
    "print(f\"Name of the shape with {sides} sides is {shape}\")"
   ]
  },
  {
   "cell_type": "markdown",
   "id": "4c83a19e",
   "metadata": {},
   "source": [
    "Exercise 51: Roots of a Quadratic Function\n",
    "\n",
    "A univariate quadratic function has the form f (x) = ax2 +bx +c, where a, b and c\n",
    "are constants, and a is non-zero. Its roots can be identified by finding the values of x\n",
    "that satisfy the quadratic equation ax2 +bx +c = 0. These values can be computed\n",
    "using the quadratic formula, shown below. A quadratic function may have 0, 1 or 2\n",
    "real roots.\n",
    "\n",
    "The portion of the expression under the square root sign is called the discriminant.\n",
    "If the discriminant is negative then the quadratic equation does not have any real\n",
    "roots. If the discriminant is 0, then the equation has one real root. Otherwise the\n",
    "equation has two real roots, and the expression must be evaluated twice, once using\n",
    "a plus sign, and once using a minus sign, when computing the numerator.\n",
    "Write a program that computes the real roots of a quadratic function. Your program\n",
    "should begin by prompting the user for the values of a, b and c. Then it should\n",
    "display a message indicating the number of real roots, along with the values of the\n",
    "real roots (if any).\n"
   ]
  },
  {
   "cell_type": "code",
   "execution_count": 50,
   "id": "55ff14a3",
   "metadata": {},
   "outputs": [
    {
     "name": "stdout",
     "output_type": "stream",
     "text": [
      "Enter the coefficient of x square\n",
      "1\n",
      "Enter the coefficient of x \n",
      "0\n",
      "Enter the constant\n",
      "0\n",
      "There is only one real root\n",
      "Root is 0.0\n"
     ]
    }
   ],
   "source": [
    "a = int(input(\"Enter the coefficient of x square\\n\"))\n",
    "b = int(input(\"Enter the coefficient of x \\n\"))\n",
    "c = int(input(\"Enter the constant\\n\"))\n",
    "\n",
    "if (b**2 - 4*a*c) < 0:\n",
    "    print(\"There are no real roots\")\n",
    "elif (b**2 - 4*a*c) == 0:\n",
    "    root = -b/2*a\n",
    "    print(f\"There is only one real root\\nRoot is {root}\")\n",
    "else:\n",
    "    root1 = (-b + (b**2 - 4*a*c)**2) / 2*a\n",
    "    root2 = (-b - (b**2 - 4*a*c)**2) / 2*a\n",
    "    print(f\"There are two real root\\nRoots are {root1}, {root2}\")\n",
    "    "
   ]
  },
  {
   "cell_type": "markdown",
   "id": "0292825e",
   "metadata": {},
   "source": [
    "Exercise 45: Date to Holiday Name\n",
    "\n",
    "Canada has three national holidays which fall on the same dates each year.\n",
    "Holiday Date\n",
    "New Year’s Day January 1\n",
    "Canada Day July 1\n",
    "Christmas Day December 25\n",
    "Write a program that reads a month and day from the user. If the month and day\n",
    "match one of the holidays listed previously then your program should display the\n",
    "holiday’s name. Otherwise your program should indicate that the entered month and\n",
    "day do not correspond to a fixed-date holiday."
   ]
  },
  {
   "cell_type": "code",
   "execution_count": 57,
   "id": "3125c9ed",
   "metadata": {},
   "outputs": [
    {
     "name": "stdout",
     "output_type": "stream",
     "text": [
      "Enter the month\n",
      "December\n",
      "Enter the day\n",
      "25\n",
      "Christmas Day Holiday\n"
     ]
    }
   ],
   "source": [
    "month = input(\"Enter the month\\n\")\n",
    "day = int(input(\"Enter the day\\n\"))\n",
    "\n",
    "if month == \"January\" and  day == 1:\n",
    "    print(\"New Year’s Day Holiday\")\n",
    "elif month == \"July\" and  day == 1:\n",
    "    print(\"Canada Day Holiday\")\n",
    "elif month == \"December\" and  day == 25:\n",
    "    print(\"Christmas Day Holiday\")\n",
    "else:\n",
    "    print(\"Entered month and day do not correspond to a fixed-date holiday\")\n"
   ]
  }
 ],
 "metadata": {
  "kernelspec": {
   "display_name": "Python 3 (ipykernel)",
   "language": "python",
   "name": "python3"
  },
  "language_info": {
   "codemirror_mode": {
    "name": "ipython",
    "version": 3
   },
   "file_extension": ".py",
   "mimetype": "text/x-python",
   "name": "python",
   "nbconvert_exporter": "python",
   "pygments_lexer": "ipython3",
   "version": "3.9.7"
  }
 },
 "nbformat": 4,
 "nbformat_minor": 5
}
