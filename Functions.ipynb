{
 "cells": [
  {
   "cell_type": "code",
   "execution_count": 1,
   "id": "94bb2d84",
   "metadata": {},
   "outputs": [],
   "source": [
    "#Functions"
   ]
  },
  {
   "cell_type": "markdown",
   "id": "dc163987",
   "metadata": {},
   "source": [
    "Exercise 85: Compute the Hypotenuse\n",
    "\n",
    "Write a function that takes the lengths of the two shorter sides of a right triangle as\n",
    "its parameters. Return the hypotenuse of the triangle, computed using Pythagorean\n",
    "theorem, as the function’s result. Include a main program that reads the lengths of\n",
    "the shorter sides of a right triangle from the user, uses your function to compute the\n",
    "length of the hypotenuse, and displays the result."
   ]
  },
  {
   "cell_type": "code",
   "execution_count": 4,
   "id": "cae56dff",
   "metadata": {},
   "outputs": [
    {
     "name": "stdout",
     "output_type": "stream",
     "text": [
      "Enter first side of a triangle\n",
      "3\n",
      "Enter second side of a triangle\n",
      "4\n",
      "Hypotenuse of 3 and 4 is 5.0\n"
     ]
    }
   ],
   "source": [
    "def find_hypotenuse(a,b):\n",
    "    return (a**2 + b**2)**0.5\n",
    "\n",
    "a = int(input(\"Enter first side of a triangle\\n\"))\n",
    "b = int(input(\"Enter second side of a triangle\\n\"))\n",
    "print(f\"Hypotenuse of {a} and {b} is\" ,find_hypotenuse(a,b))\n"
   ]
  },
  {
   "cell_type": "markdown",
   "id": "d741d96f",
   "metadata": {},
   "source": [
    "Exercise 86: Taxi Fare\n",
    "\n",
    "In a particular jurisdiction, taxi fares consist of a base fare of  4.00,𝑝𝑙𝑢𝑠 0.25 for every 140 meters travelled. \n",
    "Write a function that takes the distance travelled (in kilometers) as its only parameter and returns the total fare \n",
    "as its only result. Write a main program that demonstrates the function."
   ]
  },
  {
   "cell_type": "code",
   "execution_count": 2,
   "id": "30d40f88",
   "metadata": {},
   "outputs": [
    {
     "name": "stdout",
     "output_type": "stream",
     "text": [
      "Enter the distance travelled in kilometers\n",
      "3\n",
      "Total fare:   9.4\n"
     ]
    }
   ],
   "source": [
    "def taxi_fare(d):\n",
    "    meters = d * 1000\n",
    "    extra = 0.25 * meters / 140\n",
    "    total = 4.00 + extra\n",
    "    return total\n",
    "\n",
    "def main():\n",
    "    distance = float(input(\"Enter the distance travelled in kilometers\\n\"))   \n",
    "    total_fare = taxi_fare(distance)\n",
    "    print(f\"Total fare: {total_fare:{5}.{2}}\")\n",
    "    \n",
    "main()"
   ]
  },
  {
   "cell_type": "markdown",
   "id": "14e2b8d6",
   "metadata": {},
   "source": [
    "Exercise 102: Check a Password\n",
    "\n",
    "In this exercise you will write a function that determines whether or not a password is good.\n",
    "We will define a good password to be a one that is at least 8 characters long and contains at least one\n",
    "uppercase letter, at least one lowercase letter, and at least one number. Your function should return True \n",
    "if the password passed to it as its only parameter is good. Otherwise it should return False. \n",
    "Include a main program that reads a password from the user and reports whether or not it is good.\n",
    "Ensure that your main program only runs when your solution has not been imported into another file"
   ]
  },
  {
   "cell_type": "code",
   "execution_count": 5,
   "id": "024d557d",
   "metadata": {},
   "outputs": [
    {
     "name": "stdout",
     "output_type": "stream",
     "text": [
      "Enter a password\n",
      "hello\n",
      "Password is not good\n"
     ]
    }
   ],
   "source": [
    "def password_check(p):\n",
    "    has_upper = 0\n",
    "    has_lower = 0\n",
    "    has_digit = 0\n",
    "    for i in range(len(p)):\n",
    "        if p[i] >= \"A\" and p[i] <= \"Z\":\n",
    "            has_upper = 1\n",
    "        elif p[i] >= \"a\" and p[i] <= \"z\":\n",
    "            has_lower = 1\n",
    "        elif p[i] >= \"0\" and p[i] <= \"9\":\n",
    "            has_digit = 1\n",
    "            \n",
    "    if len(p) >= 8 and  has_upper and has_lower and  has_digit:\n",
    "        return True\n",
    "    else:\n",
    "        return False\n",
    "    \n",
    "def main():\n",
    "    password = input(\"Enter a password\\n\")\n",
    "    result = password_check(password)\n",
    "    if result:\n",
    "        print(\"Password is good\")\n",
    "    else:\n",
    "         print(\"Password is not good\")\n",
    "            \n",
    "main()"
   ]
  },
  {
   "cell_type": "markdown",
   "id": "3ecdced5",
   "metadata": {},
   "source": [
    "Exercise 104: Hexadecimal and Decimal Digits\n",
    "\n",
    "Write two functions, hex2int and int2hex, that convert between hexadecimal digits \n",
    "(0, 1, 2, 3, 4, 5, 6, 7, 8, 9, A, B, C, D, E and F) and decimal (base 10) integers.\n",
    "The hex2int function is responsible for converting a string containing a single hexadecimal\n",
    "digit to a base 10 integer, while the int2hex function is responsible for converting an integer\n",
    "between 0 and 15 to a single hexadecimal digit. Each function will take the value to convert as \n",
    "its only parameter and return the converted value as its only result. Ensure that the hex2int function\n",
    "works correctly for both uppercase and lowercase letters. Your functions should display a meaningful \n",
    "error message and end the program if the parameter’s value is outside of the expected range."
   ]
  },
  {
   "cell_type": "code",
   "execution_count": 6,
   "id": "248d4d64",
   "metadata": {},
   "outputs": [
    {
     "name": "stdout",
     "output_type": "stream",
     "text": [
      "Enter a string \n",
      "f\n",
      "Enter a digit between 0 to 15\n",
      "10\n",
      "Hexadecimal to decimal conversion of f is 15\n",
      "Decimal to hexadecimal conversion of 10 is A\n"
     ]
    }
   ],
   "source": [
    "def hex2int(s):\n",
    "    if s >= \"0\" and s <= \"9\":\n",
    "        return int(s)\n",
    "    else:\n",
    "        if s == \"A\" or s == \"a\":\n",
    "            return 10\n",
    "        elif s == \"B\" or s == \"b\":\n",
    "            return 11\n",
    "        elif s == \"C\" or s == \"c\":\n",
    "            return 12\n",
    "        elif s == \"D\" or s == \"d\":\n",
    "            return 13\n",
    "        elif s == \"E\" or s == \"e\":\n",
    "            return 14\n",
    "        elif s == \"F\" or s == \"f\":\n",
    "            return 15\n",
    "        else:\n",
    "            pass\n",
    "            \n",
    "    pass\n",
    "\n",
    "def int2hex(d):\n",
    "    if d >= 0 and d <= 9:\n",
    "        return d\n",
    "    else:\n",
    "        if d == 10:\n",
    "            return \"A\"\n",
    "        elif d == 11:\n",
    "            return \"B\"\n",
    "        elif d == 12:\n",
    "            return \"C\"\n",
    "        elif d == 13:\n",
    "            return \"D\"\n",
    "        elif d == 14:\n",
    "            return \"E\"\n",
    "        elif d == 15:\n",
    "            return \"F\"\n",
    "        else:\n",
    "            pass\n",
    "    pass\n",
    "\n",
    "string = input(\"Enter a string \\n\")\n",
    "digit = int(input(\"Enter a digit between 0 to 15\\n\"))\n",
    "string_int = hex2int(string)\n",
    "digit_hex = int2hex(digit)\n",
    "print(f\"Hexadecimal to decimal conversion of {string} is {string_int}\")\n",
    "print(f\"Decimal to hexadecimal conversion of {digit} is {digit_hex}\")"
   ]
  },
  {
   "cell_type": "markdown",
   "id": "137ef558",
   "metadata": {},
   "source": [
    "Exercise 88: Median of Three Values\n",
    "    \n",
    "Write a function that takes three numbers as parameters, and returns the median value\n",
    "of those parameters as its result. Include a main program that reads three values from\n",
    "the user and displays their median."
   ]
  },
  {
   "cell_type": "code",
   "execution_count": 14,
   "id": "74cc86a7",
   "metadata": {},
   "outputs": [
    {
     "name": "stdout",
     "output_type": "stream",
     "text": [
      "Enter the first value\n",
      "10\n",
      "Enter the second value\n",
      "20\n",
      "Enter the third value\n",
      "30\n",
      "Median: 20.0\n"
     ]
    }
   ],
   "source": [
    "def median(a, b, c):\n",
    "    return a + b + c - min(a, b, c) - max(a, b, c)\n",
    "\n",
    "\n",
    "def main():\n",
    "    x = float(input(\"Enter the first value\\n\"))\n",
    "    y = float(input(\"Enter the second value\\n\"))\n",
    "    z = float(input(\"Enter the third value\\n\"))\n",
    "    print(\"Median:\", median(x, y, z))\n",
    "\n",
    "main()"
   ]
  },
  {
   "cell_type": "markdown",
   "id": "fdd97ba1",
   "metadata": {},
   "source": [
    "Exercise 89: Convert an Integer to Its Ordinal Number\n",
    "\n",
    "Words like first, second and third are referred to as ordinal numbers. In this exercise,\n",
    "you will write a function that takes an integer as its only parameter and returns a\n",
    "string containing the appropriate English ordinal number as its only result. Your\n",
    "function must handle the integers between 1 and 12 (inclusive). It should return an\n",
    "empty string if the function is called with an argument outside of this range. Include\n",
    "a main program that demonstrates your function by displaying each integer from 1\n",
    "to 12 and its ordinal number. Your main program should only run when your file has\n",
    "not been imported into another program."
   ]
  },
  {
   "cell_type": "code",
   "execution_count": 17,
   "id": "8de5e57f",
   "metadata": {},
   "outputs": [
    {
     "name": "stdout",
     "output_type": "stream",
     "text": [
      "Enter an integer\n",
      "10\n",
      "Ordinal number of integer 10 is tenth \n"
     ]
    }
   ],
   "source": [
    "def int_to_ordinal(n):\n",
    "    if n == 1 :\n",
    "        return \"first\"\n",
    "    if n == 2 :\n",
    "        return \"second\"\n",
    "    if n == 3 :\n",
    "        return \"third\"\n",
    "    if n == 4 :\n",
    "        return \"fourth\"\n",
    "    if n == 5 :\n",
    "        return \"fifth\"\n",
    "    if n == 6 :\n",
    "        return \"sixth\"\n",
    "    if n == 7 :\n",
    "        return \"seventh\"\n",
    "    if n == 8 :\n",
    "        return \"eigth\"\n",
    "    if n == 9 :\n",
    "        return \"nineth\"\n",
    "    if n == 10 :\n",
    "        return \"tenth\"\n",
    "    if n == 11 :\n",
    "        return \"eleventh\"\n",
    "    if n == 12 :\n",
    "        return \"twelveth\"\n",
    "    else:\n",
    "        return \"Enter a number from 1 1o 12\"\n",
    "\n",
    "n = int(input(\"Enter an integer\\n\"))\n",
    "print(f\"Ordinal number of integer {n} is {int_to_ordinal(n)} \")\n",
    "        "
   ]
  },
  {
   "cell_type": "markdown",
   "id": "83762093",
   "metadata": {},
   "source": [
    "Exercise 90: The Twelve Days of Christmas\n",
    "\n",
    "The Twelve Days of Christmas is a repetitive song that describes an increasingly\n",
    "long list of gifts sent to one’s true love on each of 12 days. A single gift is sent on\n",
    "the first day. A new gift is added to the collection on each additional day, and then\n",
    "the complete collection is sent. The first three verses of the song are shown below.\n",
    "The complete lyrics are available on the Internet.\n",
    "On the first day of Christmas\n",
    "my true love sent to me:\n",
    "A partridge in a pear tree.\n",
    "On the second day of Christmas\n",
    "my true love sent to me:\n",
    "Two turtle doves,\n",
    "And a partridge in a pear tree.\n",
    "On the third day of Christmas\n",
    "my true love sent to me:\n",
    "Three French hens,\n",
    "Two turtle doves,\n",
    "And a partridge in a pear tree.\n",
    "Write a program that displays the complete lyrics for The Twelve Days of Christmas.\n",
    "Your program should include a function that displays one verse of the song. It\n",
    "will take the verse number as its only parameter. Then your program should call this\n",
    "function 12 times with integers that increase from 1 to 12.\n",
    "Each item that is sent to the recipient in the song should only appear in your\n",
    "program once, with the possible exception of the partridge. It may appear twice if\n",
    "that helps you handle the difference between “A partridge in a pear tree” in the first\n",
    "verse and “And a partridge in a pear tree” in the subsequent verses. Import your\n",
    "solution to Exercise 89 to help you complete this exercise."
   ]
  },
  {
   "cell_type": "code",
   "execution_count": 18,
   "id": "fd7c0126",
   "metadata": {},
   "outputs": [
    {
     "name": "stdout",
     "output_type": "stream",
     "text": [
      "On the first day of Christmas\n",
      "my true love sent to me:\n",
      "A partridge in a pear tree.\n",
      "\n",
      "On the second day of Christmas\n",
      "my true love sent to me:\n",
      "Two turtle doves,\n",
      "And a partridge in a pear tree.\n",
      "\n",
      "On the third day of Christmas\n",
      "my true love sent to me:\n",
      "Three French hens,\n",
      "Two turtle doves,\n",
      "And a partridge in a pear tree.\n",
      "\n",
      "On the fourth day of Christmas\n",
      "my true love sent to me:\n",
      "Four calling birds,\n",
      "Three French hens,\n",
      "Two turtle doves,\n",
      "And a partridge in a pear tree.\n",
      "\n",
      "On the fifth day of Christmas\n",
      "my true love sent to me:\n",
      "Five golden rings,\n",
      "Four calling birds,\n",
      "Three French hens,\n",
      "Two turtle doves,\n",
      "And a partridge in a pear tree.\n",
      "\n",
      "On the sixth day of Christmas\n",
      "my true love sent to me:\n",
      "Six geese a-laying,\n",
      "Five golden rings,\n",
      "Four calling birds,\n",
      "Three French hens,\n",
      "Two turtle doves,\n",
      "And a partridge in a pear tree.\n",
      "\n",
      "On the seventh day of Christmas\n",
      "my true love sent to me:\n",
      "Seven swans a-swimming,\n",
      "Six geese a-laying,\n",
      "Five golden rings,\n",
      "Four calling birds,\n",
      "Three French hens,\n",
      "Two turtle doves,\n",
      "And a partridge in a pear tree.\n",
      "\n",
      "On the eigth day of Christmas\n",
      "my true love sent to me:\n",
      "Eight maids a-milking,\n",
      "Seven swans a-swimming,\n",
      "Six geese a-laying,\n",
      "Five golden rings,\n",
      "Four calling birds,\n",
      "Three French hens,\n",
      "Two turtle doves,\n",
      "And a partridge in a pear tree.\n",
      "\n",
      "On the nineth day of Christmas\n",
      "my true love sent to me:\n",
      "Nine ladies dancing,\n",
      "Eight maids a-milking,\n",
      "Seven swans a-swimming,\n",
      "Six geese a-laying,\n",
      "Five golden rings,\n",
      "Four calling birds,\n",
      "Three French hens,\n",
      "Two turtle doves,\n",
      "And a partridge in a pear tree.\n",
      "\n",
      "On the tenth day of Christmas\n",
      "my true love sent to me:\n",
      "Ten lords a-leaping,\n",
      "Nine ladies dancing,\n",
      "Eight maids a-milking,\n",
      "Seven swans a-swimming,\n",
      "Six geese a-laying,\n",
      "Five golden rings,\n",
      "Four calling birds,\n",
      "Three French hens,\n",
      "Two turtle doves,\n",
      "And a partridge in a pear tree.\n",
      "\n",
      "On the eleventh day of Christmas\n",
      "my true love sent to me:\n",
      "Eleven pipers piping,\n",
      "Ten lords a-leaping,\n",
      "Nine ladies dancing,\n",
      "Eight maids a-milking,\n",
      "Seven swans a-swimming,\n",
      "Six geese a-laying,\n",
      "Five golden rings,\n",
      "Four calling birds,\n",
      "Three French hens,\n",
      "Two turtle doves,\n",
      "And a partridge in a pear tree.\n",
      "\n",
      "On the twelveth day of Christmas\n",
      "my true love sent to me:\n",
      "Twelve drummers drumming,\n",
      "Eleven pipers piping,\n",
      "Ten lords a-leaping,\n",
      "Nine ladies dancing,\n",
      "Eight maids a-milking,\n",
      "Seven swans a-swimming,\n",
      "Six geese a-laying,\n",
      "Five golden rings,\n",
      "Four calling birds,\n",
      "Three French hens,\n",
      "Two turtle doves,\n",
      "And a partridge in a pear tree.\n",
      "\n"
     ]
    }
   ],
   "source": [
    "def int_to_ordinal(n):\n",
    "    if n == 1 :\n",
    "        return \"first\"\n",
    "    if n == 2 :\n",
    "        return \"second\"\n",
    "    if n == 3 :\n",
    "        return \"third\"\n",
    "    if n == 4 :\n",
    "        return \"fourth\"\n",
    "    if n == 5 :\n",
    "        return \"fifth\"\n",
    "    if n == 6 :\n",
    "        return \"sixth\"\n",
    "    if n == 7 :\n",
    "        return \"seventh\"\n",
    "    if n == 8 :\n",
    "        return \"eigth\"\n",
    "    if n == 9 :\n",
    "        return \"nineth\"\n",
    "    if n == 10 :\n",
    "        return \"tenth\"\n",
    "    if n == 11 :\n",
    "        return \"eleventh\"\n",
    "    if n == 12 :\n",
    "        return \"twelveth\"\n",
    "    else:\n",
    "        return \"Enter a number from 1 1o 12\"\n",
    "\n",
    "def displayVerse(n):\n",
    "    print(\"On the\", int_to_ordinal(n), \"day of Christmas\")\n",
    "    print(\"my true love sent to me:\")\n",
    "    if n >= 12:\n",
    "        print(\"Twelve drummers drumming,\")\n",
    "    if n >= 11:\n",
    "        print(\"Eleven pipers piping,\")\n",
    "    if n >= 10:\n",
    "        print(\"Ten lords a-leaping,\")\n",
    "    if n >= 9:\n",
    "        print(\"Nine ladies dancing,\")\n",
    "    if n >= 8:\n",
    "        print(\"Eight maids a-milking,\")\n",
    "    if n >= 7:\n",
    "        print(\"Seven swans a-swimming,\")\n",
    "    if n >= 6:\n",
    "        print(\"Six geese a-laying,\")\n",
    "    if n >= 5:\n",
    "        print(\"Five golden rings,\")\n",
    "    if n >= 4:\n",
    "        print(\"Four calling birds,\")\n",
    "    if n >= 3:\n",
    "        print(\"Three French hens,\")\n",
    "    if n >= 2:\n",
    "        print(\"Two turtle doves,\")\n",
    "    if n == 1:\n",
    "        print(\"A\", end=\" \")\n",
    "    else:\n",
    "        print(\"And a\", end=\" \")\n",
    "    print(\"partridge in a pear tree.\")\n",
    "    print()\n",
    "\n",
    "def main():\n",
    "    for verse in range(1, 13):\n",
    "        displayVerse(verse)\n",
    "\n",
    "main()"
   ]
  },
  {
   "cell_type": "markdown",
   "id": "df725771",
   "metadata": {},
   "source": [
    "Exercise 93: Center a String in the TerminalWindow\n",
    "\n",
    "Write a function that takes a string, s, as its first parameter, and the width of the\n",
    "window in characters, w, as its second parameter. Your function will return a new\n",
    "string that includes whatever leading spaces are needed so that s will be centered in\n",
    "the window when the new string is printed. The new string should be constructed in\n",
    "the following manner:\n",
    "• If the length of s is greater than or equal to the width of the window then s should\n",
    "be returned.\n",
    "\n",
    "• If the length of s is less than the width of the window then a string containing\n",
    "(len(s) - w) // 2 spaces followed by s should be returned.\n",
    "Write a main program that demonstrates your function by displaying multiple\n",
    "strings centered in the window."
   ]
  },
  {
   "cell_type": "code",
   "execution_count": 19,
   "id": "9f1aeac9",
   "metadata": {},
   "outputs": [
    {
     "name": "stdout",
     "output_type": "stream",
     "text": [
      "                                 A Famous Story\n",
      "                                      by:\n",
      "                                 Someone Famous\n",
      "\n",
      "Once upon a time...\n"
     ]
    }
   ],
   "source": [
    "WIDTH = 80\n",
    "def center(s, width):\n",
    "    if width < len(s):\n",
    "        return s\n",
    "    spaces = (width - len(s)) // 2\n",
    "    result = \" \" * spaces + s\n",
    "    return result\n",
    "\n",
    "def main():\n",
    "    print(center(\"A Famous Story\", WIDTH))\n",
    "    print(center(\"by:\", WIDTH))\n",
    "    print(center(\"Someone Famous\", WIDTH))\n",
    "    print()\n",
    "    print(\"Once upon a time...\")\n",
    "\n",
    "main()\n"
   ]
  },
  {
   "cell_type": "markdown",
   "id": "426a5393",
   "metadata": {},
   "source": [
    "Exercise 95: Capitalize It\n",
    "\n",
    "Many people do not use capital letters correctly, especially when typing on small\n",
    "devices like smart phones. To help address this situation, you will create a function\n",
    "that takes a string as its only parameter and returns a new copy of the string that has\n",
    "been correctly capitalized. In particular, your function must:\n",
    "• Capitalize the first non-space character in the string,\n",
    "• Capitalize the first non-space character after a period, exclamation mark or question\n",
    "mark, and\n",
    "• Capitalize a lowercase “i” if it is preceded by a space and followed by a space,\n",
    "period, exclamation mark, question mark or apostrophe.\n",
    "Implementing these transformations will correct most capitalization errors. For\n",
    "example, if the function is provided with the string “what time do i have to be there?\n",
    "what’s the address? this time i’ll try to be on time!” then it should return the string\n",
    "“What time do I have to be there? What’s the address? This time I’ll try to be on\n",
    "time!”. Include a main program that reads a string from the user, capitalizes it using\n",
    "your function, and displays the result."
   ]
  },
  {
   "cell_type": "code",
   "execution_count": 27,
   "id": "a26a6188",
   "metadata": {},
   "outputs": [
    {
     "name": "stdout",
     "output_type": "stream",
     "text": [
      "Enter text\n",
      "hi i am fine\n",
      "It is capitalized as: Hi I am fine\n"
     ]
    }
   ],
   "source": [
    "def capitalize(s):\n",
    "    result = s\n",
    "    pos = 0\n",
    "    while pos < len(s) and result[pos] == \" \":\n",
    "        pos = pos + 1\n",
    "    if pos < len(s):\n",
    "        result = result[0 : pos] + result[pos].upper() + result[pos + 1 : len(result)]\n",
    "    pos = 0\n",
    "    while pos < len(s):\n",
    "        if result[pos] == \".\" or result[pos] == \"!\" or result[pos] == \"?\":\n",
    "            pos = pos + 1\n",
    "            while pos < len(s) and result[pos] == \" \":\n",
    "                pos = pos + 1\n",
    "            if pos < len(s):\n",
    "                result = result[0 : pos] + result[pos].upper() + result[pos + 1 : len(result)]\n",
    "        pos = pos + 1\n",
    "\n",
    "    pos = 1\n",
    "    while pos < len(s) - 1:\n",
    "        if result[pos - 1] == \" \" and result[pos] == \"i\" and (result[pos + 1] == \" \" or result[pos + 1] == \".\" or \\\n",
    "    result[pos + 1] == \"!\" or result[pos + 1] == \"?\" or result[pos + 1] == \"’\"):\n",
    "            result = result[0 : pos] + \"I\" + result[pos + 1 : len(result)]\n",
    "        pos = pos + 1\n",
    "    return result\n",
    "\n",
    "def main():\n",
    "    s = input(\"Enter text\\n\")\n",
    "    capitalized = capitalize(s)\n",
    "    print(\"It is capitalized as:\", capitalized)\n",
    "\n",
    "main()\n"
   ]
  },
  {
   "cell_type": "markdown",
   "id": "944da828",
   "metadata": {},
   "source": [
    "Exercise 96: Does a String Represent an Integer?\n",
    "\n",
    "In this exercise you will write a function named isInteger that determines\n",
    "whether or not the characters in a string represent a valid integer. When determining\n",
    "if a string represents an integer you should ignore any leading or trailing\n",
    "white space. Once this white space is ignored, a string represents an integer if its\n",
    "length is at least one and it only contains digits, or if its first character is either +\n",
    "or - and the first character is followed by one or more characters, all of which are\n",
    "digits.\n",
    "Write a main program that reads a string from the user and reports whether or\n",
    "not it represents an integer. Ensure that the main program will not run if the file\n",
    "containing your solution is imported into another program."
   ]
  },
  {
   "cell_type": "code",
   "execution_count": 32,
   "id": "e701f75f",
   "metadata": {},
   "outputs": [
    {
     "name": "stdout",
     "output_type": "stream",
     "text": [
      "Enter string\n",
      "hello\n",
      "String does not represent an integer.\n"
     ]
    }
   ],
   "source": [
    "def isInteger(s):\n",
    "    s = s.strip()\n",
    "    if (s[0] == \"+\" or s[0] == \"-\") and s[1:].isdigit():\n",
    "        return True\n",
    "    if s.isdigit():\n",
    "        return True\n",
    "    return False\n",
    "\n",
    "def main():\n",
    "    s = input(\"Enter string\\n\")\n",
    "    if isInteger(s):\n",
    "        print(\"String represents an integer.\")\n",
    "    else:\n",
    "        print(\"String does not represent an integer.\")\n",
    "\n",
    "if __name__ == \"__main__\":\n",
    "    main()\n"
   ]
  },
  {
   "cell_type": "markdown",
   "id": "88475236",
   "metadata": {},
   "source": [
    "Exercise 98: Is a Number Prime?\n",
    "\n",
    "A prime number is an integer greater than one that is only divisible by one and itself.\n",
    "Write a function that determines whether or not its parameter is prime, returning\n",
    "True if it is, and False otherwise. Write a main program that reads an integer\n",
    "from the user and displays a message indicating whether or not it is prime. Ensure\n",
    "that the main program will not run if the file containing your solution is imported\n",
    "into another program."
   ]
  },
  {
   "cell_type": "code",
   "execution_count": 34,
   "id": "434f8434",
   "metadata": {},
   "outputs": [
    {
     "name": "stdout",
     "output_type": "stream",
     "text": [
      "Enter an integer\n",
      "10\n",
      "10 is not prime number.\n"
     ]
    }
   ],
   "source": [
    "def isPrime(n):\n",
    "    if n <= 1:\n",
    "        return False\n",
    "    for i in range(2, n):\n",
    "        if n % i == 0:\n",
    "            return False\n",
    "    return True\n",
    "\n",
    "def main():\n",
    "    value = int(input(\"Enter an integer\\n\"))\n",
    "    if isPrime(value):\n",
    "        print(value, \"is a prime number.\")\n",
    "    else:\n",
    "        print(value, \"is not prime number.\")\n",
    "\n",
    "if __name__ == \"__main__\":\n",
    "    main()\n"
   ]
  }
 ],
 "metadata": {
  "kernelspec": {
   "display_name": "Python 3 (ipykernel)",
   "language": "python",
   "name": "python3"
  },
  "language_info": {
   "codemirror_mode": {
    "name": "ipython",
    "version": 3
   },
   "file_extension": ".py",
   "mimetype": "text/x-python",
   "name": "python",
   "nbconvert_exporter": "python",
   "pygments_lexer": "ipython3",
   "version": "3.9.7"
  }
 },
 "nbformat": 4,
 "nbformat_minor": 5
}
